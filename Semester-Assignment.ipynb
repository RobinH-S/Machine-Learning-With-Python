{
 "cells": [
  {
   "cell_type": "markdown",
   "metadata": {},
   "source": [
    "# Introduction\n",
    "\n",
    "In this notebook, we will try to understand, process and predict sales prices from the dataset NYC Property Sales from Kaggle.\n",
    "The notebook is divided into four subsections: \n",
    "* Data inspection - We take a closer look at the data to see if it is usable, or has any unknown issues.\n",
    "* Processing data - We use what we have learnt from the inspection, and start removing useless datapoints, outliers etc.\n",
    "* Training ML algorithms - We try six different algorithms to predict the sales price\n",
    "* Summary\n",
    "\n",
    "You will need to have the \"nyc-rolling-sales.csv\" in the same folder as this notebook file.\n",
    "\n",
    "#### Candidate numbers: 203, 237, 131."
   ]
  },
  {
   "cell_type": "code",
   "execution_count": 1,
   "metadata": {},
   "outputs": [],
   "source": [
    "import pandas as pd\n",
    "import numpy as np\n",
    "import matplotlib.pyplot as plt"
   ]
  },
  {
   "cell_type": "code",
   "execution_count": 2,
   "metadata": {},
   "outputs": [],
   "source": [
    "# Read the dataset into pandas dataframe \n",
    "df = pd.read_csv(\"https://raw.githubusercontent.com/thomasRimmereide/INFO284-L5-G1/main/nyc-rolling-sales.csv\",sep = \",\", encoding=\"utf-8\")"
   ]
  },
  {
   "cell_type": "code",
   "execution_count": 3,
   "metadata": {
    "scrolled": true
   },
   "outputs": [
    {
     "data": {
      "text/html": [
       "<div>\n",
       "<style scoped>\n",
       "    .dataframe tbody tr th:only-of-type {\n",
       "        vertical-align: middle;\n",
       "    }\n",
       "\n",
       "    .dataframe tbody tr th {\n",
       "        vertical-align: top;\n",
       "    }\n",
       "\n",
       "    .dataframe thead th {\n",
       "        text-align: right;\n",
       "    }\n",
       "</style>\n",
       "<table border=\"1\" class=\"dataframe\">\n",
       "  <thead>\n",
       "    <tr style=\"text-align: right;\">\n",
       "      <th></th>\n",
       "      <th>Unnamed: 0</th>\n",
       "      <th>BOROUGH</th>\n",
       "      <th>NEIGHBORHOOD</th>\n",
       "      <th>BUILDING CLASS CATEGORY</th>\n",
       "      <th>TAX CLASS AT PRESENT</th>\n",
       "      <th>BLOCK</th>\n",
       "      <th>LOT</th>\n",
       "      <th>EASE-MENT</th>\n",
       "      <th>BUILDING CLASS AT PRESENT</th>\n",
       "      <th>ADDRESS</th>\n",
       "      <th>...</th>\n",
       "      <th>RESIDENTIAL UNITS</th>\n",
       "      <th>COMMERCIAL UNITS</th>\n",
       "      <th>TOTAL UNITS</th>\n",
       "      <th>LAND SQUARE FEET</th>\n",
       "      <th>GROSS SQUARE FEET</th>\n",
       "      <th>YEAR BUILT</th>\n",
       "      <th>TAX CLASS AT TIME OF SALE</th>\n",
       "      <th>BUILDING CLASS AT TIME OF SALE</th>\n",
       "      <th>SALE PRICE</th>\n",
       "      <th>SALE DATE</th>\n",
       "    </tr>\n",
       "  </thead>\n",
       "  <tbody>\n",
       "    <tr>\n",
       "      <th>0</th>\n",
       "      <td>4</td>\n",
       "      <td>1</td>\n",
       "      <td>ALPHABET CITY</td>\n",
       "      <td>07 RENTALS - WALKUP APARTMENTS</td>\n",
       "      <td>2A</td>\n",
       "      <td>392</td>\n",
       "      <td>6</td>\n",
       "      <td></td>\n",
       "      <td>C2</td>\n",
       "      <td>153 AVENUE B</td>\n",
       "      <td>...</td>\n",
       "      <td>5</td>\n",
       "      <td>0</td>\n",
       "      <td>5</td>\n",
       "      <td>1633</td>\n",
       "      <td>6440</td>\n",
       "      <td>1900</td>\n",
       "      <td>2</td>\n",
       "      <td>C2</td>\n",
       "      <td>6625000</td>\n",
       "      <td>2017-07-19 00:00:00</td>\n",
       "    </tr>\n",
       "    <tr>\n",
       "      <th>1</th>\n",
       "      <td>5</td>\n",
       "      <td>1</td>\n",
       "      <td>ALPHABET CITY</td>\n",
       "      <td>07 RENTALS - WALKUP APARTMENTS</td>\n",
       "      <td>2</td>\n",
       "      <td>399</td>\n",
       "      <td>26</td>\n",
       "      <td></td>\n",
       "      <td>C7</td>\n",
       "      <td>234 EAST 4TH   STREET</td>\n",
       "      <td>...</td>\n",
       "      <td>28</td>\n",
       "      <td>3</td>\n",
       "      <td>31</td>\n",
       "      <td>4616</td>\n",
       "      <td>18690</td>\n",
       "      <td>1900</td>\n",
       "      <td>2</td>\n",
       "      <td>C7</td>\n",
       "      <td>-</td>\n",
       "      <td>2016-12-14 00:00:00</td>\n",
       "    </tr>\n",
       "    <tr>\n",
       "      <th>2</th>\n",
       "      <td>6</td>\n",
       "      <td>1</td>\n",
       "      <td>ALPHABET CITY</td>\n",
       "      <td>07 RENTALS - WALKUP APARTMENTS</td>\n",
       "      <td>2</td>\n",
       "      <td>399</td>\n",
       "      <td>39</td>\n",
       "      <td></td>\n",
       "      <td>C7</td>\n",
       "      <td>197 EAST 3RD   STREET</td>\n",
       "      <td>...</td>\n",
       "      <td>16</td>\n",
       "      <td>1</td>\n",
       "      <td>17</td>\n",
       "      <td>2212</td>\n",
       "      <td>7803</td>\n",
       "      <td>1900</td>\n",
       "      <td>2</td>\n",
       "      <td>C7</td>\n",
       "      <td>-</td>\n",
       "      <td>2016-12-09 00:00:00</td>\n",
       "    </tr>\n",
       "    <tr>\n",
       "      <th>3</th>\n",
       "      <td>7</td>\n",
       "      <td>1</td>\n",
       "      <td>ALPHABET CITY</td>\n",
       "      <td>07 RENTALS - WALKUP APARTMENTS</td>\n",
       "      <td>2B</td>\n",
       "      <td>402</td>\n",
       "      <td>21</td>\n",
       "      <td></td>\n",
       "      <td>C4</td>\n",
       "      <td>154 EAST 7TH STREET</td>\n",
       "      <td>...</td>\n",
       "      <td>10</td>\n",
       "      <td>0</td>\n",
       "      <td>10</td>\n",
       "      <td>2272</td>\n",
       "      <td>6794</td>\n",
       "      <td>1913</td>\n",
       "      <td>2</td>\n",
       "      <td>C4</td>\n",
       "      <td>3936272</td>\n",
       "      <td>2016-09-23 00:00:00</td>\n",
       "    </tr>\n",
       "    <tr>\n",
       "      <th>4</th>\n",
       "      <td>8</td>\n",
       "      <td>1</td>\n",
       "      <td>ALPHABET CITY</td>\n",
       "      <td>07 RENTALS - WALKUP APARTMENTS</td>\n",
       "      <td>2A</td>\n",
       "      <td>404</td>\n",
       "      <td>55</td>\n",
       "      <td></td>\n",
       "      <td>C2</td>\n",
       "      <td>301 EAST 10TH   STREET</td>\n",
       "      <td>...</td>\n",
       "      <td>6</td>\n",
       "      <td>0</td>\n",
       "      <td>6</td>\n",
       "      <td>2369</td>\n",
       "      <td>4615</td>\n",
       "      <td>1900</td>\n",
       "      <td>2</td>\n",
       "      <td>C2</td>\n",
       "      <td>8000000</td>\n",
       "      <td>2016-11-17 00:00:00</td>\n",
       "    </tr>\n",
       "  </tbody>\n",
       "</table>\n",
       "<p>5 rows × 22 columns</p>\n",
       "</div>"
      ],
      "text/plain": [
       "   Unnamed: 0  BOROUGH   NEIGHBORHOOD  \\\n",
       "0           4        1  ALPHABET CITY   \n",
       "1           5        1  ALPHABET CITY   \n",
       "2           6        1  ALPHABET CITY   \n",
       "3           7        1  ALPHABET CITY   \n",
       "4           8        1  ALPHABET CITY   \n",
       "\n",
       "                       BUILDING CLASS CATEGORY TAX CLASS AT PRESENT  BLOCK  \\\n",
       "0  07 RENTALS - WALKUP APARTMENTS                                2A    392   \n",
       "1  07 RENTALS - WALKUP APARTMENTS                                 2    399   \n",
       "2  07 RENTALS - WALKUP APARTMENTS                                 2    399   \n",
       "3  07 RENTALS - WALKUP APARTMENTS                                2B    402   \n",
       "4  07 RENTALS - WALKUP APARTMENTS                                2A    404   \n",
       "\n",
       "   LOT EASE-MENT BUILDING CLASS AT PRESENT                 ADDRESS  ...  \\\n",
       "0    6                                  C2            153 AVENUE B  ...   \n",
       "1   26                                  C7   234 EAST 4TH   STREET  ...   \n",
       "2   39                                  C7   197 EAST 3RD   STREET  ...   \n",
       "3   21                                  C4     154 EAST 7TH STREET  ...   \n",
       "4   55                                  C2  301 EAST 10TH   STREET  ...   \n",
       "\n",
       "  RESIDENTIAL UNITS  COMMERCIAL UNITS  TOTAL UNITS  LAND SQUARE FEET  \\\n",
       "0                 5                 0            5              1633   \n",
       "1                28                 3           31              4616   \n",
       "2                16                 1           17              2212   \n",
       "3                10                 0           10              2272   \n",
       "4                 6                 0            6              2369   \n",
       "\n",
       "   GROSS SQUARE FEET YEAR BUILT TAX CLASS AT TIME OF SALE  \\\n",
       "0               6440       1900                         2   \n",
       "1              18690       1900                         2   \n",
       "2               7803       1900                         2   \n",
       "3               6794       1913                         2   \n",
       "4               4615       1900                         2   \n",
       "\n",
       "   BUILDING CLASS AT TIME OF SALE  SALE PRICE            SALE DATE  \n",
       "0                              C2     6625000  2017-07-19 00:00:00  \n",
       "1                              C7         -    2016-12-14 00:00:00  \n",
       "2                              C7         -    2016-12-09 00:00:00  \n",
       "3                              C4     3936272  2016-09-23 00:00:00  \n",
       "4                              C2     8000000  2016-11-17 00:00:00  \n",
       "\n",
       "[5 rows x 22 columns]"
      ]
     },
     "execution_count": 3,
     "metadata": {},
     "output_type": "execute_result"
    }
   ],
   "source": [
    "# Check what the dataframe consists of.\n",
    "df.head()\n"
   ]
  },
  {
   "cell_type": "markdown",
   "metadata": {},
   "source": [
    "## Data Inspection:\n",
    "\n",
    "In the dataset, there is plenty of values we want to remove for different reasons. We want to make sure the data to be used contains actual data, and as far as we can, avoid extremely high/low values. Furthermore, we will check the dataset for duplicates using a duplicated – method from pandas and delete them if there is any. Inspection of columns individually: \n",
    "\n",
    "#### BOROUGH: Want to utilize.\n",
    "\n",
    "* This contains numbers representing a specific borough, being an area within New York, having values ranging from 1-5. As we can see later in the notebook, we simply transform these integers to strings to be able to one-hot-encode them later.\n",
    "this columns looks useful to predict sales prices, so we use this.\n",
    "\n",
    "#### TAX CLASS AT SALE: Want to utilize.\n",
    "* This value represents what tax class the property had when it was sold, being represented by a number. Looking closer at these tax classes, we find that roughly 90% of them belong in tax classes 1 or 2 as shown below. We compare it to tax calss at present, but decide to only use the one mentioned above to avoid duplicates (both having the same tax class for the same properties).\n",
    "\n"
   ]
  },
  {
   "cell_type": "code",
   "execution_count": 4,
   "metadata": {
    "slideshow": {
     "slide_type": "fragment"
    },
    "tags": [
     "to_remove"
    ]
   },
   "outputs": [
    {
     "data": {
      "image/png": "[encoded data removed]",
      "text/plain": [
       "<Figure size 432x288 with 1 Axes>"
      ]
     },
     "metadata": {
      "needs_background": "light"
     },
     "output_type": "display_data"
    },
    {
     "data": {
      "image/png": "[encoded data removed]",
      "text/plain": [
       "<Figure size 432x288 with 1 Axes>"
      ]
     },
     "metadata": {
      "needs_background": "light"
     },
     "output_type": "display_data"
    }
   ],
   "source": [
    "from collections import Counter\n",
    "# Count how many of each in the columns\n",
    "counter_for_present = Counter(df[\"TAX CLASS AT PRESENT\"])\n",
    "counter_for_time_of_sale = Counter(df[\"TAX CLASS AT TIME OF SALE\"])\n",
    "\n",
    "# Make them percentage of the total, instead of the number of each. 84548 is the total amount of rows\n",
    "def f(v): return round((v/84548)*100,2)\n",
    "\n",
    "# Apply the function to both dictonaries\n",
    "d_present = dict((k, f(v)) for k, v in counter_for_present.items())\n",
    "d_sale = dict((k, f(v)) for k, v in counter_for_time_of_sale.items())\n",
    "\n",
    "# Extract keys and values from the dict to make the charts.\n",
    "keys_present, values_present = d_present.keys() , d_present.values()\n",
    "keys_sale, values_sale = d_sale.keys() , d_sale.values()\n",
    "\n",
    "# Make one chart from each column\n",
    "\n",
    "plt.bar(keys_present, values_present, align=\"center\", alpha=0.9, color=\"b\")\n",
    "plt.ylabel(\"Percentage\")\n",
    "plt.title(\"Distrubution of tax class at present in dataset\")\n",
    "plt.show()\n",
    "\n",
    "\n",
    "plt.bar(keys_sale, values_sale, align=\"center\", alpha=0.9, color=\"g\")\n",
    "plt.ylabel(\"Percentage\")\n",
    "plt.title(\"Distrubution of tax classes at time of sale in dataset\")\n",
    "plt.show()\n"
   ]
  },
  {
   "cell_type": "markdown",
   "metadata": {},
   "source": [
    "#### YEAR BUILT: Want to utilize.\n",
    "* This column we believe will generally have an impact on the sales prices. In general, newer houses hold a higher value than older ones. Looking closer at the data, it seems like the dataset contains some values being 0, and also values ranging between 1100 - 1800. We do not want to include these in the prediction, so they will be removed later. As shown below, there is some spikes of buildings built in some particular years. Keeping this in mind, we attempt to use the column futher.\n"
   ]
  },
  {
   "cell_type": "code",
   "execution_count": 5,
   "metadata": {},
   "outputs": [
    {
     "data": {
      "image/png": "[encoded data removed]",
      "text/plain": [
       "<Figure size 432x288 with 1 Axes>"
      ]
     },
     "metadata": {
      "needs_background": "light"
     },
     "output_type": "display_data"
    }
   ],
   "source": [
    "temp_df = df[(df[\"YEAR BUILT\"] >1900) & (df[\"YEAR BUILT\"] <2018)]\n",
    "counter_year_built=Counter(temp_df[\"YEAR BUILT\"])\n",
    "keys, values = counter_year_built.keys(), counter_year_built.values()\n",
    "\n",
    "plt.bar(keys, values, align=\"center\", alpha=0.9, color=\"g\")\n",
    "plt.ylabel(\"Amount built\")\n",
    "plt.title(\"Distrubution of buildings built\")\n",
    "plt.show()"
   ]
  },
  {
   "cell_type": "markdown",
   "metadata": {},
   "source": [
    "#### SALE DATE: Want to utilize\n",
    "* This data contains a lot of data we can simplify. First thing we remove is the time(HMS), furthermore we want to split it into quarters instead of specific months and dates to look at a bigger general timespan. Doing this we can clearer see how the prices evolved from month to month, and each year.\n",
    "\n",
    "#### BUILDING CLASS AT PRESENT and BUILDING CLASS AT TIME OF SALE: Do not want to utilize.\n",
    "* Roughly 45% of the values exsists in the five classes with the most entries. Looking closer, there is a huge span of small sub-classes with 1-10 entries. Instead of using either of these columns we thought BUILDING CLASS CATEGORY looked better. It has understandable classes, but does also include quite a bit of smaller classes with very few entries.\n"
   ]
  },
  {
   "cell_type": "code",
   "execution_count": 6,
   "metadata": {},
   "outputs": [
    {
     "name": "stdout",
     "output_type": "stream",
     "text": [
      "D4    12663\n",
      "R4    12482\n",
      "A1     6753\n",
      "A5     5683\n",
      "B2     4923\n",
      "      ...  \n",
      "I3        1\n",
      "K8        1\n",
      "R7        1\n",
      "Q8        1\n",
      "P7        1\n",
      "Name: BUILDING CLASS AT PRESENT, Length: 167, dtype: int64\n",
      "R4    12989\n",
      "D4    12666\n",
      "A1     6751\n",
      "A5     5671\n",
      "B2     4918\n",
      "      ...  \n",
      "HH        1\n",
      "Q8        1\n",
      "R7        1\n",
      "I3        1\n",
      "Y3        1\n",
      "Name: BUILDING CLASS AT TIME OF SALE, Length: 166, dtype: int64\n"
     ]
    }
   ],
   "source": [
    "print(df[\"BUILDING CLASS AT PRESENT\"].value_counts())\n",
    "print(df[\"BUILDING CLASS AT TIME OF SALE\"].value_counts())"
   ]
  },
  {
   "cell_type": "markdown",
   "metadata": {},
   "source": [
    "#### BUILDING CLASS CATEGORY: Want to utilize.\n",
    "* Later in the notebook, we remove all entries containing less than 100 entries from this column to better see a pattern between what class a sale belongs to, and the price of the property.\n",
    "\n",
    "#### EASE-MENT: Do not want to utilize.\n",
    "* This is empty and will be dropped from the dataset.\n",
    "\n",
    "#### BLOCK; LOT: Do not want to utilize\n",
    "* These two describe in a smaller scale where the property is located. They might have an impact on the sales price, but include quite a large number of unique numbers. This time we choose to not focus on these.\n",
    "\n",
    "\n",
    "#### NEIGHBORHOOD:  Do not want to utilize.\n",
    "* This is a closer location of the property, down to what neighborhood it belongs to. Looking at the data, this column contains 254 different neighborhoods with some variation of properties sold, ranging from 3068 to 1, making it hard to utilize.\n",
    "The data is spread around the different neighborhoods fairly evenly.\n",
    "\n"
   ]
  },
  {
   "cell_type": "code",
   "execution_count": 7,
   "metadata": {},
   "outputs": [
    {
     "data": {
      "image/png": "[encoded data removed]",
      "text/plain": [
       "<Figure size 432x288 with 1 Axes>"
      ]
     },
     "metadata": {
      "needs_background": "light"
     },
     "output_type": "display_data"
    }
   ],
   "source": [
    "df[\"NEIGHBORHOOD\"].value_counts()\n",
    "counter_neighborhood=Counter(df[\"NEIGHBORHOOD\"])\n",
    "keys, values = counter_neighborhood.keys(), counter_neighborhood.values()\n",
    "\n",
    "#Create a scatter, and do not include names of the neighborhoods\n",
    "plt.scatter(keys, values)\n",
    "ax = plt.gca()\n",
    "ax.axes.xaxis.set_visible(False)\n",
    "plt.show()"
   ]
  },
  {
   "cell_type": "markdown",
   "metadata": {},
   "source": [
    "#### ADDRESS, APARTMENT NUMBER and ZIP_CODE: Do not want to utilize.\n",
    "* These we consider quite useless for us, as the address has way too many unique values, and does not work as useful data to predict value. The apartment number has nothing to do with the actual value of the property, if any.\n",
    "\n",
    "#### RESIDENTIAL UNITS: Do not want to utilize.\n",
    "* The span of residential units goes from quite high (1844) all the way down to 0. We suspect the 0-cases might be office buildings. For now, we will drop this, but it might become useful later to group all the niche numbers of residential units (For example 100-500 units) together to find if there is any correlation to the predicted price. For now, we drop this column\n",
    "\n"
   ]
  },
  {
   "cell_type": "code",
   "execution_count": 8,
   "metadata": {},
   "outputs": [
    {
     "data": {
      "text/plain": [
       "1844"
      ]
     },
     "execution_count": 8,
     "metadata": {},
     "output_type": "execute_result"
    }
   ],
   "source": [
    "# Highest amount of redidential units in the column\n",
    "max(df[\"RESIDENTIAL UNITS\"].value_counts().keys())"
   ]
  },
  {
   "cell_type": "markdown",
   "metadata": {},
   "source": [
    "#### COMMERCIAL UNITS and TOTAL UNITS: Do not want to utilize.\n",
    "* Like residential units, this shows if the property has any units for commercial use. We chose to not use these data, partly because roughly 94% of the data is 0. This might not be completely true because we have seen that properties can also have both, and neither of them. Total units are quite similar, and could be used later in the project, but is on hold for this time."
   ]
  },
  {
   "cell_type": "code",
   "execution_count": 9,
   "metadata": {},
   "outputs": [
    {
     "name": "stdout",
     "output_type": "stream",
     "text": [
      "Total datapoints: 84548\n",
      "Amount of data being zero: 79429\n",
      "Percentage of data being zero: 93.95%\n"
     ]
    }
   ],
   "source": [
    "print(\"Total datapoints: \"+ str(len(df[\"COMMERCIAL UNITS\"])))\n",
    "print(\"Amount of data being zero: \" + str(df[\"COMMERCIAL UNITS\"].value_counts()[0]))\n",
    "print(\"Percentage of data being zero: \" + str(round((df[\"COMMERCIAL UNITS\"].value_counts()[0])/\n",
    "                                                 (len(df[\"COMMERCIAL UNITS\"]))*100,2)) + \"%\")\n"
   ]
  },
  {
   "cell_type": "markdown",
   "metadata": {},
   "source": [
    "#### LAND SQUARE FEET and GROSS SQUARE FEET: Want to utilize GROSS.\n",
    "* These data look hard to use, as around 43-47% of the data has no value. We are not sure how big the overlap of these two columns is, so the percentage might be even higher. This leaves quite a large amount of data available out. Despise this, gross square feet generally have a great correlation to sales price. We will attempt to utilize this in our ML to check how it performs."
   ]
  },
  {
   "cell_type": "code",
   "execution_count": 10,
   "metadata": {},
   "outputs": [
    {
     "name": "stdout",
     "output_type": "stream",
     "text": [
      "Amount of 'Land square feet' being either zero or none: 43.26%\n",
      "Amount of 'Gross square feet' being either zero or none: 46.16%\n"
     ]
    }
   ],
   "source": [
    "lqf=df[\"LAND SQUARE FEET\"].value_counts()\n",
    "gqf=df[\"GROSS SQUARE FEET\"].value_counts()\n",
    "print(\"Amount of 'Land square feet' being either zero or none: \" + str(round((sum(lqf[:2])/\n",
    "                                                                              len(df[\"LAND SQUARE FEET\"])*100),2)) + \"%\")\n",
    "print(\"Amount of 'Gross square feet' being either zero or none: \" + str(round((sum(gqf[:2])/\n",
    "                                                                              len(df[\"GROSS SQUARE FEET\"])*100),2)) + \"%\")"
   ]
  },
  {
   "cell_type": "markdown",
   "metadata": {},
   "source": [
    "#### SALE PRICE: Target\n",
    "* There are some values here we do not want to have, including 1, 10 and 500 which there is a lot of. There are also 0 values, being explained in the data set as properties that has either been passed down to for example their children, or transfer of deeds between parties. We drop these values from the dataset."
   ]
  },
  {
   "cell_type": "markdown",
   "metadata": {},
   "source": [
    "### Preprossesing data \n",
    "To avoid having null, \"-\", 0 etc datapoints, we want to get rid of them and focus on actual data. For this, a few functions used with the .apply function from pandas, we aim to clean up the roughest parts of the data\n",
    "\n",
    "\n",
    "* We remove outliers from SALE PRICE because these prices are unrealistic.\n",
    "* TAX CLASS AT PRESENT contains rows with empty cells. These are removed from both TAX CLASS AT PRESENT and BOROUGH.\n",
    "* BOROUGH is an categorical value. Pandas get.dummies dont treat integers as categorical, hence we need to convert BOROUGH    from int to str type.\n",
    "* SALE DATE is to detailed. The differens in prices can only be seen in month and year. Therfore we split SALE DATE into      two new columns SALE DATE YEAR and SALE DATE MONTH and remove the SALE DATE column.\n",
    "* With the column containing YEAR BUILT we want the data to only range from 1900-2017.  \n"
   ]
  },
  {
   "cell_type": "code",
   "execution_count": 11,
   "metadata": {},
   "outputs": [],
   "source": [
    "df.drop(columns=[\"Unnamed: 0\", \"BLOCK\", \"LOT\", \"EASE-MENT\", \"ADDRESS\", \"APARTMENT NUMBER\"\n",
    "    ,\"BUILDING CLASS AT PRESENT\", \"BUILDING CLASS AT TIME OF SALE\", \"NEIGHBORHOOD\",\"ZIP CODE\",\n",
    "                 \"TAX CLASS AT PRESENT\",\"RESIDENTIAL UNITS\",\"COMMERCIAL UNITS\",\"TOTAL UNITS\", \"LAND SQUARE FEET\"\n",
    "                 ], inplace = True)"
   ]
  },
  {
   "cell_type": "code",
   "execution_count": 12,
   "metadata": {},
   "outputs": [
    {
     "data": {
      "text/html": [
       "<div>\n",
       "<style scoped>\n",
       "    .dataframe tbody tr th:only-of-type {\n",
       "        vertical-align: middle;\n",
       "    }\n",
       "\n",
       "    .dataframe tbody tr th {\n",
       "        vertical-align: top;\n",
       "    }\n",
       "\n",
       "    .dataframe thead th {\n",
       "        text-align: right;\n",
       "    }\n",
       "</style>\n",
       "<table border=\"1\" class=\"dataframe\">\n",
       "  <thead>\n",
       "    <tr style=\"text-align: right;\">\n",
       "      <th></th>\n",
       "      <th>BOROUGH</th>\n",
       "      <th>BUILDING CLASS CATEGORY</th>\n",
       "      <th>GROSS SQUARE FEET</th>\n",
       "      <th>YEAR BUILT</th>\n",
       "      <th>TAX CLASS AT TIME OF SALE</th>\n",
       "      <th>SALE PRICE</th>\n",
       "      <th>SALE DATE</th>\n",
       "    </tr>\n",
       "  </thead>\n",
       "  <tbody>\n",
       "    <tr>\n",
       "      <th>0</th>\n",
       "      <td>1</td>\n",
       "      <td>07 RENTALS - WALKUP APARTMENTS</td>\n",
       "      <td>6440</td>\n",
       "      <td>1900</td>\n",
       "      <td>2</td>\n",
       "      <td>6625000</td>\n",
       "      <td>2017-07-19 00:00:00</td>\n",
       "    </tr>\n",
       "    <tr>\n",
       "      <th>1</th>\n",
       "      <td>1</td>\n",
       "      <td>07 RENTALS - WALKUP APARTMENTS</td>\n",
       "      <td>18690</td>\n",
       "      <td>1900</td>\n",
       "      <td>2</td>\n",
       "      <td>-</td>\n",
       "      <td>2016-12-14 00:00:00</td>\n",
       "    </tr>\n",
       "    <tr>\n",
       "      <th>2</th>\n",
       "      <td>1</td>\n",
       "      <td>07 RENTALS - WALKUP APARTMENTS</td>\n",
       "      <td>7803</td>\n",
       "      <td>1900</td>\n",
       "      <td>2</td>\n",
       "      <td>-</td>\n",
       "      <td>2016-12-09 00:00:00</td>\n",
       "    </tr>\n",
       "    <tr>\n",
       "      <th>3</th>\n",
       "      <td>1</td>\n",
       "      <td>07 RENTALS - WALKUP APARTMENTS</td>\n",
       "      <td>6794</td>\n",
       "      <td>1913</td>\n",
       "      <td>2</td>\n",
       "      <td>3936272</td>\n",
       "      <td>2016-09-23 00:00:00</td>\n",
       "    </tr>\n",
       "    <tr>\n",
       "      <th>4</th>\n",
       "      <td>1</td>\n",
       "      <td>07 RENTALS - WALKUP APARTMENTS</td>\n",
       "      <td>4615</td>\n",
       "      <td>1900</td>\n",
       "      <td>2</td>\n",
       "      <td>8000000</td>\n",
       "      <td>2016-11-17 00:00:00</td>\n",
       "    </tr>\n",
       "  </tbody>\n",
       "</table>\n",
       "</div>"
      ],
      "text/plain": [
       "   BOROUGH                      BUILDING CLASS CATEGORY GROSS SQUARE FEET  \\\n",
       "0        1  07 RENTALS - WALKUP APARTMENTS                           6440   \n",
       "1        1  07 RENTALS - WALKUP APARTMENTS                          18690   \n",
       "2        1  07 RENTALS - WALKUP APARTMENTS                           7803   \n",
       "3        1  07 RENTALS - WALKUP APARTMENTS                           6794   \n",
       "4        1  07 RENTALS - WALKUP APARTMENTS                           4615   \n",
       "\n",
       "   YEAR BUILT  TAX CLASS AT TIME OF SALE SALE PRICE            SALE DATE  \n",
       "0        1900                          2    6625000  2017-07-19 00:00:00  \n",
       "1        1900                          2        -    2016-12-14 00:00:00  \n",
       "2        1900                          2        -    2016-12-09 00:00:00  \n",
       "3        1913                          2    3936272  2016-09-23 00:00:00  \n",
       "4        1900                          2    8000000  2016-11-17 00:00:00  "
      ]
     },
     "execution_count": 12,
     "metadata": {},
     "output_type": "execute_result"
    }
   ],
   "source": [
    "# Check the dataframe again to check whats left after the drop\n",
    "df.head()"
   ]
  },
  {
   "cell_type": "markdown",
   "metadata": {},
   "source": [
    "Before continuing the processing of the data, we want to check how many unique values each of them contains, to check\n",
    "if any of them need to be grouped up or categorized any more for the data to be able to give us any information.\n",
    "\n",
    "We already know some of them will contain a large amount of unique values, like sale price and sale date. These will\n",
    "be greatly reduced to increase the chance of extracting any trends from them.\n",
    "\n",
    "Also, for the algorithms to be efficient, there is a limit to how many parameters it would make sense to use as input."
   ]
  },
  {
   "cell_type": "code",
   "execution_count": 13,
   "metadata": {},
   "outputs": [
    {
     "name": "stdout",
     "output_type": "stream",
     "text": [
      "BOROUGH:                        5\n",
      "YEAR BUILT:                     158\n",
      "TAX CLASS AT TIME OF SALE:      4\n",
      "SALE PRICE:                     10008\n",
      "SALE DATE:                      364\n"
     ]
    }
   ],
   "source": [
    "# Check how many unique values our initial columns consists of.\n",
    "print(\"BOROUGH:                        \" + str(df['BOROUGH'].nunique()))\n",
    "print(\"YEAR BUILT:                     \"+ str(df['YEAR BUILT'].nunique()))\n",
    "print(\"TAX CLASS AT TIME OF SALE:      \"+ str(df['TAX CLASS AT TIME OF SALE'].nunique()))\n",
    "print(\"SALE PRICE:                     \"+ str(df['SALE PRICE'].nunique()))\n",
    "print(\"SALE DATE:                      \"+ str(df['SALE DATE'].nunique()))"
   ]
  },
  {
   "cell_type": "code",
   "execution_count": 14,
   "metadata": {},
   "outputs": [],
   "source": [
    "# Collection of functions used for cleanup\n",
    "def remove_unwanted_entries(dataframe):\n",
    "    for column in df.columns:\n",
    "        dataframe = dataframe[dataframe[column] != ' -  ']\n",
    "        dataframe = dataframe[dataframe[column] != ' ']\n",
    "        dataframe = dataframe[dataframe[column] != 'nan']\n",
    "    return dataframe\n",
    "\n",
    "\n",
    "def split_sale_date(dataframe):\n",
    "    if \"SALE DATE\" in dataframe:\n",
    "        dataframe[\"SALE DATE\"] = pd.to_datetime(dataframe[\"SALE DATE\"])\n",
    "        dataframe[\"SALE DATE YEAR\"] = dataframe[\"SALE DATE\"].dt.year\n",
    "        dataframe[\"SALE DATE MONTH\"] = dataframe[\"SALE DATE\"].dt.month\n",
    "        dataframe = dataframe.drop(columns=[\"SALE DATE\"])\n",
    "        return dataframe\n",
    "\n",
    "\n",
    "def make_float(columns : list, dataframe):\n",
    "    for column in columns:\n",
    "        dataframe[column] = dataframe[column].astype(\"float64\")\n",
    "    return dataframe\n",
    "\n",
    "# Code from: https://stackoverflow.com/questions/23199796/detect-and-exclude-outliers-in-pandas-data-frame\n",
    "def outliers(columns : list, dataframe):\n",
    "    for column in columns:\n",
    "        q_low = dataframe[column].quantile(0.01)\n",
    "        q_hi  = dataframe[column].quantile(0.99)\n",
    "        dataframe = dataframe[(dataframe[column] < q_hi) & (dataframe[column] > q_low)]\n",
    "    return dataframe\n",
    "\n",
    "\n",
    "def toString(columns : list, dataframe):\n",
    "    for column in columns:\n",
    "        dataframe[column] = dataframe[column].astype(str)\n",
    "    return dataframe\n",
    "\n"
   ]
  },
  {
   "cell_type": "code",
   "execution_count": 15,
   "metadata": {},
   "outputs": [
    {
     "name": "stdout",
     "output_type": "stream",
     "text": [
      "Amount of rows in dataframe before the cleaning: 84548\n"
     ]
    }
   ],
   "source": [
    "print(\"Amount of rows in dataframe before the cleaning: \" + str(len(df)))"
   ]
  },
  {
   "cell_type": "code",
   "execution_count": 16,
   "metadata": {},
   "outputs": [
    {
     "data": {
      "text/html": [
       "<div>\n",
       "<style scoped>\n",
       "    .dataframe tbody tr th:only-of-type {\n",
       "        vertical-align: middle;\n",
       "    }\n",
       "\n",
       "    .dataframe tbody tr th {\n",
       "        vertical-align: top;\n",
       "    }\n",
       "\n",
       "    .dataframe thead th {\n",
       "        text-align: right;\n",
       "    }\n",
       "</style>\n",
       "<table border=\"1\" class=\"dataframe\">\n",
       "  <thead>\n",
       "    <tr style=\"text-align: right;\">\n",
       "      <th></th>\n",
       "      <th>BOROUGH</th>\n",
       "      <th>BUILDING CLASS CATEGORY</th>\n",
       "      <th>GROSS SQUARE FEET</th>\n",
       "      <th>YEAR BUILT</th>\n",
       "      <th>TAX CLASS AT TIME OF SALE</th>\n",
       "      <th>SALE PRICE</th>\n",
       "      <th>SALE DATE</th>\n",
       "    </tr>\n",
       "  </thead>\n",
       "  <tbody>\n",
       "    <tr>\n",
       "      <th>0</th>\n",
       "      <td>1</td>\n",
       "      <td>07 RENTALS - WALKUP APARTMENTS</td>\n",
       "      <td>6440</td>\n",
       "      <td>1900</td>\n",
       "      <td>2</td>\n",
       "      <td>6625000</td>\n",
       "      <td>2017-07-19 00:00:00</td>\n",
       "    </tr>\n",
       "    <tr>\n",
       "      <th>1</th>\n",
       "      <td>1</td>\n",
       "      <td>07 RENTALS - WALKUP APARTMENTS</td>\n",
       "      <td>18690</td>\n",
       "      <td>1900</td>\n",
       "      <td>2</td>\n",
       "      <td>-</td>\n",
       "      <td>2016-12-14 00:00:00</td>\n",
       "    </tr>\n",
       "    <tr>\n",
       "      <th>2</th>\n",
       "      <td>1</td>\n",
       "      <td>07 RENTALS - WALKUP APARTMENTS</td>\n",
       "      <td>7803</td>\n",
       "      <td>1900</td>\n",
       "      <td>2</td>\n",
       "      <td>-</td>\n",
       "      <td>2016-12-09 00:00:00</td>\n",
       "    </tr>\n",
       "    <tr>\n",
       "      <th>3</th>\n",
       "      <td>1</td>\n",
       "      <td>07 RENTALS - WALKUP APARTMENTS</td>\n",
       "      <td>6794</td>\n",
       "      <td>1913</td>\n",
       "      <td>2</td>\n",
       "      <td>3936272</td>\n",
       "      <td>2016-09-23 00:00:00</td>\n",
       "    </tr>\n",
       "    <tr>\n",
       "      <th>4</th>\n",
       "      <td>1</td>\n",
       "      <td>07 RENTALS - WALKUP APARTMENTS</td>\n",
       "      <td>4615</td>\n",
       "      <td>1900</td>\n",
       "      <td>2</td>\n",
       "      <td>8000000</td>\n",
       "      <td>2016-11-17 00:00:00</td>\n",
       "    </tr>\n",
       "  </tbody>\n",
       "</table>\n",
       "</div>"
      ],
      "text/plain": [
       "   BOROUGH                      BUILDING CLASS CATEGORY GROSS SQUARE FEET  \\\n",
       "0        1  07 RENTALS - WALKUP APARTMENTS                           6440   \n",
       "1        1  07 RENTALS - WALKUP APARTMENTS                          18690   \n",
       "2        1  07 RENTALS - WALKUP APARTMENTS                           7803   \n",
       "3        1  07 RENTALS - WALKUP APARTMENTS                           6794   \n",
       "4        1  07 RENTALS - WALKUP APARTMENTS                           4615   \n",
       "\n",
       "   YEAR BUILT  TAX CLASS AT TIME OF SALE SALE PRICE            SALE DATE  \n",
       "0        1900                          2    6625000  2017-07-19 00:00:00  \n",
       "1        1900                          2        -    2016-12-14 00:00:00  \n",
       "2        1900                          2        -    2016-12-09 00:00:00  \n",
       "3        1913                          2    3936272  2016-09-23 00:00:00  \n",
       "4        1900                          2    8000000  2016-11-17 00:00:00  "
      ]
     },
     "execution_count": 16,
     "metadata": {},
     "output_type": "execute_result"
    }
   ],
   "source": [
    "df.head()"
   ]
  },
  {
   "cell_type": "code",
   "execution_count": 17,
   "metadata": {},
   "outputs": [],
   "source": [
    "# Dataset clean-up\n",
    "values_to_float=[\"YEAR BUILT\",\"SALE PRICE\", \"GROSS SQUARE FEET\"]\n",
    "enitries_to_str = [\"BOROUGH\",\"TAX CLASS AT TIME OF SALE\"]\n",
    "df = remove_unwanted_entries(df)\n",
    "df = split_sale_date(df)\n",
    "df = make_float(values_to_float, df)\n",
    "df = toString(enitries_to_str, df)\n",
    "\n",
    "df = df[df[\"SALE PRICE\"] > 10]\n",
    "df = df[df[\"GROSS SQUARE FEET\"] > 1]\n",
    "df = df[df[\"YEAR BUILT\"] >= 1900]\n",
    "df = outliers([\"SALE PRICE\", \"GROSS SQUARE FEET\"], df)\n",
    "df.dropna(inplace=True)\n",
    "\n"
   ]
  },
  {
   "cell_type": "code",
   "execution_count": 18,
   "metadata": {},
   "outputs": [
    {
     "name": "stdout",
     "output_type": "stream",
     "text": [
      "Amount of rows in dataframe after the cleaning: 26404\n"
     ]
    }
   ],
   "source": [
    "print(\"Amount of rows in dataframe after the cleaning: \" + str(len(df)))"
   ]
  },
  {
   "cell_type": "markdown",
   "metadata": {},
   "source": [
    "By removing some \"useless\" data, dataframe was reduced by 58 144 datapoints. "
   ]
  },
  {
   "cell_type": "markdown",
   "metadata": {},
   "source": [
    "* Some of the columns in the dataframe contains categorical data. We use pandas get_dummies to create dummie features, so       that the data is possible to use in the machine learning algorithm in a proper way. "
   ]
  },
  {
   "cell_type": "code",
   "execution_count": 19,
   "metadata": {},
   "outputs": [],
   "source": [
    "# Creating OneHotEncoded values for discrete columns\n",
    "df = pd.get_dummies(df, columns=[\"BOROUGH\", \"TAX CLASS AT TIME OF SALE\",\n",
    "                                 \"BUILDING CLASS CATEGORY\"\n",
    "                                 ])\n",
    "\n",
    "#Removing BUILDING CLASS CATEGORY with less than 100 entries.\n",
    "for i in df.columns:\n",
    "    count= 0\n",
    "    if \"BUILDING\" in i:\n",
    "        for x in df[i]:\n",
    "            if x ==1:\n",
    "                count+=1\n",
    "        if count < 100:\n",
    "            df = df.drop(columns=i)"
   ]
  },
  {
   "cell_type": "markdown",
   "metadata": {},
   "source": [
    "### Training ML algorithms\n",
    "\n",
    "Below, we train the following algorithms to compare the results and find the best optimalized for this particular dataset we have processed:\n",
    "* Ridge \n",
    "* Linear Regression\n",
    "* MLP Regressor\n",
    "* Lasso\n",
    "* Random Forest\n",
    "\n",
    "For Ridge and Lasso, we used Grid Search with Cross-Validation. Instead of using Simple Grid Search, which uses one single split and depending on how the data is split. \n",
    "The difference between the two is the amount of splits we do on the dataset. We decided to use KFold to do the folding on the dataset, and use different amount of splits for each algorithm. This is explained in (p.263-270)\n",
    "\n",
    "Grid Search can be explained as nested for-loops checking every possible combination of parametres you give it. So the amount of models the program would need to train is amount_of_unique_combinations_of_parameters * amounts_of_folds. This can quickly escalate to a lot of models to train, which will take a large amount of time to run. The positive about this method is that you do not manually have to go through different parametres to find best score, and once it has ran once you do not have to run it again.\n"
   ]
  },
  {
   "cell_type": "code",
   "execution_count": 20,
   "metadata": {},
   "outputs": [],
   "source": [
    "from sklearn.model_selection import train_test_split\n",
    "from sklearn.neighbors import KNeighborsRegressor\n",
    "from matplotlib import pyplot as plt \n",
    "from sklearn.svm import LinearSVC\n",
    "from sklearn.preprocessing import MinMaxScaler\n",
    "from sklearn.svm import LinearSVC\n",
    "from sklearn.metrics import r2_score\n",
    "from sklearn import preprocessing\n",
    "from sklearn.linear_model import LinearRegression\n",
    "from sklearn.metrics import mean_squared_error\n",
    "from sklearn.model_selection import cross_val_score as cvs\n",
    "from sklearn.model_selection import KFold\n",
    "import math\n",
    "from sklearn.linear_model import Ridge\n",
    "from sklearn.model_selection import GridSearchCV\n",
    "from sklearn.linear_model import Lasso\n"
   ]
  },
  {
   "cell_type": "code",
   "execution_count": 21,
   "metadata": {},
   "outputs": [
    {
     "data": {
      "text/html": [
       "<div>\n",
       "<style scoped>\n",
       "    .dataframe tbody tr th:only-of-type {\n",
       "        vertical-align: middle;\n",
       "    }\n",
       "\n",
       "    .dataframe tbody tr th {\n",
       "        vertical-align: top;\n",
       "    }\n",
       "\n",
       "    .dataframe thead th {\n",
       "        text-align: right;\n",
       "    }\n",
       "</style>\n",
       "<table border=\"1\" class=\"dataframe\">\n",
       "  <thead>\n",
       "    <tr style=\"text-align: right;\">\n",
       "      <th></th>\n",
       "      <th>GROSS SQUARE FEET</th>\n",
       "      <th>YEAR BUILT</th>\n",
       "      <th>SALE DATE YEAR</th>\n",
       "      <th>SALE DATE MONTH</th>\n",
       "      <th>BOROUGH_1</th>\n",
       "      <th>BOROUGH_2</th>\n",
       "      <th>BOROUGH_3</th>\n",
       "      <th>BOROUGH_4</th>\n",
       "      <th>BOROUGH_5</th>\n",
       "      <th>TAX CLASS AT TIME OF SALE_1</th>\n",
       "      <th>...</th>\n",
       "      <th>TAX CLASS AT TIME OF SALE_4</th>\n",
       "      <th>BUILDING CLASS CATEGORY_01 ONE FAMILY DWELLINGS</th>\n",
       "      <th>BUILDING CLASS CATEGORY_02 TWO FAMILY DWELLINGS</th>\n",
       "      <th>BUILDING CLASS CATEGORY_03 THREE FAMILY DWELLINGS</th>\n",
       "      <th>BUILDING CLASS CATEGORY_07 RENTALS - WALKUP APARTMENTS</th>\n",
       "      <th>BUILDING CLASS CATEGORY_14 RENTALS - 4-10 UNIT</th>\n",
       "      <th>BUILDING CLASS CATEGORY_21 OFFICE BUILDINGS</th>\n",
       "      <th>BUILDING CLASS CATEGORY_22 STORE BUILDINGS</th>\n",
       "      <th>BUILDING CLASS CATEGORY_29 COMMERCIAL GARAGES</th>\n",
       "      <th>BUILDING CLASS CATEGORY_30 WAREHOUSES</th>\n",
       "    </tr>\n",
       "  </thead>\n",
       "  <tbody>\n",
       "    <tr>\n",
       "      <th>0</th>\n",
       "      <td>6440.0</td>\n",
       "      <td>1900.0</td>\n",
       "      <td>2017</td>\n",
       "      <td>7</td>\n",
       "      <td>1</td>\n",
       "      <td>0</td>\n",
       "      <td>0</td>\n",
       "      <td>0</td>\n",
       "      <td>0</td>\n",
       "      <td>0</td>\n",
       "      <td>...</td>\n",
       "      <td>0</td>\n",
       "      <td>0</td>\n",
       "      <td>0</td>\n",
       "      <td>0</td>\n",
       "      <td>1</td>\n",
       "      <td>0</td>\n",
       "      <td>0</td>\n",
       "      <td>0</td>\n",
       "      <td>0</td>\n",
       "      <td>0</td>\n",
       "    </tr>\n",
       "    <tr>\n",
       "      <th>3</th>\n",
       "      <td>6794.0</td>\n",
       "      <td>1913.0</td>\n",
       "      <td>2016</td>\n",
       "      <td>9</td>\n",
       "      <td>1</td>\n",
       "      <td>0</td>\n",
       "      <td>0</td>\n",
       "      <td>0</td>\n",
       "      <td>0</td>\n",
       "      <td>0</td>\n",
       "      <td>...</td>\n",
       "      <td>0</td>\n",
       "      <td>0</td>\n",
       "      <td>0</td>\n",
       "      <td>0</td>\n",
       "      <td>1</td>\n",
       "      <td>0</td>\n",
       "      <td>0</td>\n",
       "      <td>0</td>\n",
       "      <td>0</td>\n",
       "      <td>0</td>\n",
       "    </tr>\n",
       "    <tr>\n",
       "      <th>4</th>\n",
       "      <td>4615.0</td>\n",
       "      <td>1900.0</td>\n",
       "      <td>2016</td>\n",
       "      <td>11</td>\n",
       "      <td>1</td>\n",
       "      <td>0</td>\n",
       "      <td>0</td>\n",
       "      <td>0</td>\n",
       "      <td>0</td>\n",
       "      <td>0</td>\n",
       "      <td>...</td>\n",
       "      <td>0</td>\n",
       "      <td>0</td>\n",
       "      <td>0</td>\n",
       "      <td>0</td>\n",
       "      <td>1</td>\n",
       "      <td>0</td>\n",
       "      <td>0</td>\n",
       "      <td>0</td>\n",
       "      <td>0</td>\n",
       "      <td>0</td>\n",
       "    </tr>\n",
       "    <tr>\n",
       "      <th>6</th>\n",
       "      <td>4226.0</td>\n",
       "      <td>1920.0</td>\n",
       "      <td>2016</td>\n",
       "      <td>9</td>\n",
       "      <td>1</td>\n",
       "      <td>0</td>\n",
       "      <td>0</td>\n",
       "      <td>0</td>\n",
       "      <td>0</td>\n",
       "      <td>0</td>\n",
       "      <td>...</td>\n",
       "      <td>0</td>\n",
       "      <td>0</td>\n",
       "      <td>0</td>\n",
       "      <td>0</td>\n",
       "      <td>1</td>\n",
       "      <td>0</td>\n",
       "      <td>0</td>\n",
       "      <td>0</td>\n",
       "      <td>0</td>\n",
       "      <td>0</td>\n",
       "    </tr>\n",
       "    <tr>\n",
       "      <th>9</th>\n",
       "      <td>18523.0</td>\n",
       "      <td>1920.0</td>\n",
       "      <td>2016</td>\n",
       "      <td>11</td>\n",
       "      <td>1</td>\n",
       "      <td>0</td>\n",
       "      <td>0</td>\n",
       "      <td>0</td>\n",
       "      <td>0</td>\n",
       "      <td>0</td>\n",
       "      <td>...</td>\n",
       "      <td>0</td>\n",
       "      <td>0</td>\n",
       "      <td>0</td>\n",
       "      <td>0</td>\n",
       "      <td>0</td>\n",
       "      <td>0</td>\n",
       "      <td>0</td>\n",
       "      <td>0</td>\n",
       "      <td>0</td>\n",
       "      <td>0</td>\n",
       "    </tr>\n",
       "  </tbody>\n",
       "</table>\n",
       "<p>5 rows × 21 columns</p>\n",
       "</div>"
      ],
      "text/plain": [
       "   GROSS SQUARE FEET  YEAR BUILT  SALE DATE YEAR  SALE DATE MONTH  BOROUGH_1  \\\n",
       "0             6440.0      1900.0            2017                7          1   \n",
       "3             6794.0      1913.0            2016                9          1   \n",
       "4             4615.0      1900.0            2016               11          1   \n",
       "6             4226.0      1920.0            2016                9          1   \n",
       "9            18523.0      1920.0            2016               11          1   \n",
       "\n",
       "   BOROUGH_2  BOROUGH_3  BOROUGH_4  BOROUGH_5  TAX CLASS AT TIME OF SALE_1  \\\n",
       "0          0          0          0          0                            0   \n",
       "3          0          0          0          0                            0   \n",
       "4          0          0          0          0                            0   \n",
       "6          0          0          0          0                            0   \n",
       "9          0          0          0          0                            0   \n",
       "\n",
       "   ...  TAX CLASS AT TIME OF SALE_4  \\\n",
       "0  ...                            0   \n",
       "3  ...                            0   \n",
       "4  ...                            0   \n",
       "6  ...                            0   \n",
       "9  ...                            0   \n",
       "\n",
       "   BUILDING CLASS CATEGORY_01 ONE FAMILY DWELLINGS                      \\\n",
       "0                                                  0                     \n",
       "3                                                  0                     \n",
       "4                                                  0                     \n",
       "6                                                  0                     \n",
       "9                                                  0                     \n",
       "\n",
       "   BUILDING CLASS CATEGORY_02 TWO FAMILY DWELLINGS                      \\\n",
       "0                                                  0                     \n",
       "3                                                  0                     \n",
       "4                                                  0                     \n",
       "6                                                  0                     \n",
       "9                                                  0                     \n",
       "\n",
       "   BUILDING CLASS CATEGORY_03 THREE FAMILY DWELLINGS                    \\\n",
       "0                                                  0                     \n",
       "3                                                  0                     \n",
       "4                                                  0                     \n",
       "6                                                  0                     \n",
       "9                                                  0                     \n",
       "\n",
       "   BUILDING CLASS CATEGORY_07 RENTALS - WALKUP APARTMENTS               \\\n",
       "0                                                  1                     \n",
       "3                                                  1                     \n",
       "4                                                  1                     \n",
       "6                                                  1                     \n",
       "9                                                  0                     \n",
       "\n",
       "   BUILDING CLASS CATEGORY_14 RENTALS - 4-10 UNIT                       \\\n",
       "0                                                  0                     \n",
       "3                                                  0                     \n",
       "4                                                  0                     \n",
       "6                                                  0                     \n",
       "9                                                  0                     \n",
       "\n",
       "   BUILDING CLASS CATEGORY_21 OFFICE BUILDINGS                          \\\n",
       "0                                                  0                     \n",
       "3                                                  0                     \n",
       "4                                                  0                     \n",
       "6                                                  0                     \n",
       "9                                                  0                     \n",
       "\n",
       "   BUILDING CLASS CATEGORY_22 STORE BUILDINGS                           \\\n",
       "0                                                  0                     \n",
       "3                                                  0                     \n",
       "4                                                  0                     \n",
       "6                                                  0                     \n",
       "9                                                  0                     \n",
       "\n",
       "   BUILDING CLASS CATEGORY_29 COMMERCIAL GARAGES                        \\\n",
       "0                                                  0                     \n",
       "3                                                  0                     \n",
       "4                                                  0                     \n",
       "6                                                  0                     \n",
       "9                                                  0                     \n",
       "\n",
       "   BUILDING CLASS CATEGORY_30 WAREHOUSES                                \n",
       "0                                                  0                    \n",
       "3                                                  0                    \n",
       "4                                                  0                    \n",
       "6                                                  0                    \n",
       "9                                                  0                    \n",
       "\n",
       "[5 rows x 21 columns]"
      ]
     },
     "execution_count": 21,
     "metadata": {},
     "output_type": "execute_result"
    }
   ],
   "source": [
    "target = df[\"SALE PRICE\"]\n",
    "data = df.drop(\"SALE PRICE\", axis=1)\n",
    "\n",
    "data.head()"
   ]
  },
  {
   "cell_type": "markdown",
   "metadata": {},
   "source": [
    "#### Linear Regression\n",
    "\n",
    "For Linear Regression, we used Cross-Validation with KFold to check if it works better than the original scoring method.\n"
   ]
  },
  {
   "cell_type": "code",
   "execution_count": 22,
   "metadata": {},
   "outputs": [
    {
     "name": "stdout",
     "output_type": "stream",
     "text": [
      "Linear Regression score method:\n",
      "Train score  59.05%\n",
      "Test score  60.7% \n",
      "\n",
      "Linear Regression with Cross Validation\n",
      "Cross Validation mean score  59.15 %\n",
      "Standard deviation  2.2\n"
     ]
    }
   ],
   "source": [
    "from sklearn.preprocessing import StandardScaler\n",
    "X_train, X_test, y_train, y_test = train_test_split(data,target, random_state = 12)\n",
    "\n",
    "\n",
    "feature_scaler = StandardScaler()\n",
    "X_train = feature_scaler.fit_transform(X_train)\n",
    "X_test = feature_scaler.transform(X_test)\n",
    "\n",
    "\n",
    "linreg=LinearRegression()\n",
    "linreg.fit(X_train, y_train)\n",
    "\n",
    "print(\"Linear Regression score method:\")\n",
    "print(\"Train score \",str(round(linreg.score(X_train, y_train)*100,2)) + \"%\")\n",
    "print(\"Test score \" ,str(round(linreg.score(X_test, y_test)*100,2)) + \"% \\n\")\n",
    "\n",
    "kfold = KFold(n_splits=11,shuffle=True,random_state=0)\n",
    "score = cvs(linreg, data, target,cv = kfold)\n",
    "\n",
    "print(\"Linear Regression with Cross Validation\")\n",
    "print(\"Cross Validation mean score \",round(score.mean()*100,2),\"%\" )\n",
    "print(\"Standard deviation \", round(score.std()*100,2))"
   ]
  },
  {
   "cell_type": "markdown",
   "metadata": {},
   "source": [
    "#### Ridge\n",
    "For Cross-Validation we tested kFold with splits from 2 to 200. 7 gives one of the best mean scores (59.03) while keeping the STD low 1.9.\n",
    "\n",
    "For Ridge we tested alpha between 0 and 199 with 0.5 between each number. 21 gave the best score.\n",
    "\n"
   ]
  },
  {
   "cell_type": "code",
   "execution_count": 23,
   "metadata": {},
   "outputs": [
    {
     "name": "stdout",
     "output_type": "stream",
     "text": [
      "Ridge cross validation\n",
      "RIDGE R^2 mean score  59.03 %\n",
      "Standard deviation  1.9 \n",
      "\n",
      "Ridge grid search with cross validation \n",
      "Best parameters  {'alpha': 21.0}\n",
      "Best train score  58.49 %\n",
      "Test score  60.74 %\n"
     ]
    }
   ],
   "source": [
    "parameter_ridge = {\"alpha\" : [i for i in np.arange(2,200,0.5)] }\n",
    "X_train, X_test, y_train, y_test = train_test_split(data,target, random_state = 12)\n",
    "\n",
    "\n",
    "ridge = Ridge(alpha=10)\n",
    "ridge.fit(X_train, y_train)\n",
    "kfold = KFold(n_splits=7,shuffle=True,random_state=0)\n",
    "\n",
    "score = cvs(ridge, data, target,cv = kfold)\n",
    "print(\"Ridge cross validation\")\n",
    "print(\"RIDGE R^2 mean score \", round(score.mean()*100,2), \"%\")\n",
    "print(\"Standard deviation \", round(score.std()*100,2),\"\\n\")\n",
    "\n",
    "\n",
    "gs = GridSearchCV(Ridge(), parameter_ridge, cv=kfold)\n",
    "gs.fit(X_train, y_train)\n",
    "print(\"Ridge grid search with cross validation \")\n",
    "print(\"Best parameters \",gs.best_params_)\n",
    "print(\"Best train score \",round(gs.best_score_*100,2),\"%\")\n",
    "print(\"Test score \", round(gs.score(X_test, y_test)*100,2),\"%\")"
   ]
  },
  {
   "cell_type": "markdown",
   "metadata": {},
   "source": [
    "#### Lasso\n",
    "When testing CVS with different folds. The score i quit similar, but the STD seems to increase when nuber of folds increse. a three fold seems to be the best fit for this dataset.\n",
    "When doing a gridsearch, it looks like the bigger alpha, the better. Here we test between 0-0.9.  \n"
   ]
  },
  {
   "cell_type": "code",
   "execution_count": 24,
   "metadata": {},
   "outputs": [
    {
     "name": "stdout",
     "output_type": "stream",
     "text": [
      "Standard Lasso \n",
      "Number of fetures used  19\n",
      "Train score  59.05\n",
      "Test score  60.7\n"
     ]
    },
    {
     "ename": "KeyboardInterrupt",
     "evalue": "",
     "output_type": "error",
     "traceback": [
      "\u001b[1;31m---------------------------------------------------------------------------\u001b[0m",
      "\u001b[1;31mKeyboardInterrupt\u001b[0m                         Traceback (most recent call last)",
      "\u001b[1;32m<ipython-input-24-f6bf9f6388c2>\u001b[0m in \u001b[0;36m<module>\u001b[1;34m\u001b[0m\n\u001b[0;32m     14\u001b[0m \u001b[1;33m\u001b[0m\u001b[0m\n\u001b[0;32m     15\u001b[0m \u001b[0mkfold\u001b[0m \u001b[1;33m=\u001b[0m \u001b[0mKFold\u001b[0m\u001b[1;33m(\u001b[0m\u001b[0mn_splits\u001b[0m\u001b[1;33m=\u001b[0m\u001b[1;36m3\u001b[0m\u001b[1;33m,\u001b[0m\u001b[0mshuffle\u001b[0m\u001b[1;33m=\u001b[0m\u001b[1;32mTrue\u001b[0m\u001b[1;33m,\u001b[0m\u001b[0mrandom_state\u001b[0m\u001b[1;33m=\u001b[0m\u001b[1;36m0\u001b[0m\u001b[1;33m)\u001b[0m\u001b[1;33m\u001b[0m\u001b[1;33m\u001b[0m\u001b[0m\n\u001b[1;32m---> 16\u001b[1;33m \u001b[0mscore\u001b[0m \u001b[1;33m=\u001b[0m \u001b[0mcvs\u001b[0m\u001b[1;33m(\u001b[0m\u001b[0mLasso\u001b[0m\u001b[1;33m(\u001b[0m\u001b[0mmax_iter\u001b[0m \u001b[1;33m=\u001b[0m \u001b[1;36m100000\u001b[0m\u001b[1;33m)\u001b[0m\u001b[1;33m,\u001b[0m \u001b[0mdata\u001b[0m\u001b[1;33m,\u001b[0m \u001b[0mtarget\u001b[0m\u001b[1;33m,\u001b[0m\u001b[0mcv\u001b[0m \u001b[1;33m=\u001b[0m \u001b[0mkfold\u001b[0m\u001b[1;33m)\u001b[0m\u001b[1;33m\u001b[0m\u001b[1;33m\u001b[0m\u001b[0m\n\u001b[0m\u001b[0;32m     17\u001b[0m \u001b[0mprint\u001b[0m\u001b[1;33m(\u001b[0m\u001b[1;34m\"Lasso cross validation\"\u001b[0m\u001b[1;33m)\u001b[0m\u001b[1;33m\u001b[0m\u001b[1;33m\u001b[0m\u001b[0m\n\u001b[0;32m     18\u001b[0m \u001b[0mprint\u001b[0m\u001b[1;33m(\u001b[0m\u001b[1;34m\"Lasso R^2 mean score \"\u001b[0m\u001b[1;33m,\u001b[0m \u001b[0mround\u001b[0m\u001b[1;33m(\u001b[0m\u001b[0mscore\u001b[0m\u001b[1;33m.\u001b[0m\u001b[0mmean\u001b[0m\u001b[1;33m(\u001b[0m\u001b[1;33m)\u001b[0m\u001b[1;33m*\u001b[0m\u001b[1;36m100\u001b[0m\u001b[1;33m,\u001b[0m\u001b[1;36m2\u001b[0m\u001b[1;33m)\u001b[0m\u001b[1;33m,\u001b[0m \u001b[1;34m\"%\"\u001b[0m\u001b[1;33m)\u001b[0m\u001b[1;33m\u001b[0m\u001b[1;33m\u001b[0m\u001b[0m\n",
      "\u001b[1;32m~\\anaconda3\\lib\\site-packages\\sklearn\\utils\\validation.py\u001b[0m in \u001b[0;36minner_f\u001b[1;34m(*args, **kwargs)\u001b[0m\n\u001b[0;32m     70\u001b[0m                           FutureWarning)\n\u001b[0;32m     71\u001b[0m         \u001b[0mkwargs\u001b[0m\u001b[1;33m.\u001b[0m\u001b[0mupdate\u001b[0m\u001b[1;33m(\u001b[0m\u001b[1;33m{\u001b[0m\u001b[0mk\u001b[0m\u001b[1;33m:\u001b[0m \u001b[0marg\u001b[0m \u001b[1;32mfor\u001b[0m \u001b[0mk\u001b[0m\u001b[1;33m,\u001b[0m \u001b[0marg\u001b[0m \u001b[1;32min\u001b[0m \u001b[0mzip\u001b[0m\u001b[1;33m(\u001b[0m\u001b[0msig\u001b[0m\u001b[1;33m.\u001b[0m\u001b[0mparameters\u001b[0m\u001b[1;33m,\u001b[0m \u001b[0margs\u001b[0m\u001b[1;33m)\u001b[0m\u001b[1;33m}\u001b[0m\u001b[1;33m)\u001b[0m\u001b[1;33m\u001b[0m\u001b[1;33m\u001b[0m\u001b[0m\n\u001b[1;32m---> 72\u001b[1;33m         \u001b[1;32mreturn\u001b[0m \u001b[0mf\u001b[0m\u001b[1;33m(\u001b[0m\u001b[1;33m**\u001b[0m\u001b[0mkwargs\u001b[0m\u001b[1;33m)\u001b[0m\u001b[1;33m\u001b[0m\u001b[1;33m\u001b[0m\u001b[0m\n\u001b[0m\u001b[0;32m     73\u001b[0m     \u001b[1;32mreturn\u001b[0m \u001b[0minner_f\u001b[0m\u001b[1;33m\u001b[0m\u001b[1;33m\u001b[0m\u001b[0m\n\u001b[0;32m     74\u001b[0m \u001b[1;33m\u001b[0m\u001b[0m\n",
      "\u001b[1;32m~\\anaconda3\\lib\\site-packages\\sklearn\\model_selection\\_validation.py\u001b[0m in \u001b[0;36mcross_val_score\u001b[1;34m(estimator, X, y, groups, scoring, cv, n_jobs, verbose, fit_params, pre_dispatch, error_score)\u001b[0m\n\u001b[0;32m    399\u001b[0m     \u001b[0mscorer\u001b[0m \u001b[1;33m=\u001b[0m \u001b[0mcheck_scoring\u001b[0m\u001b[1;33m(\u001b[0m\u001b[0mestimator\u001b[0m\u001b[1;33m,\u001b[0m \u001b[0mscoring\u001b[0m\u001b[1;33m=\u001b[0m\u001b[0mscoring\u001b[0m\u001b[1;33m)\u001b[0m\u001b[1;33m\u001b[0m\u001b[1;33m\u001b[0m\u001b[0m\n\u001b[0;32m    400\u001b[0m \u001b[1;33m\u001b[0m\u001b[0m\n\u001b[1;32m--> 401\u001b[1;33m     cv_results = cross_validate(estimator=estimator, X=X, y=y, groups=groups,\n\u001b[0m\u001b[0;32m    402\u001b[0m                                 \u001b[0mscoring\u001b[0m\u001b[1;33m=\u001b[0m\u001b[1;33m{\u001b[0m\u001b[1;34m'score'\u001b[0m\u001b[1;33m:\u001b[0m \u001b[0mscorer\u001b[0m\u001b[1;33m}\u001b[0m\u001b[1;33m,\u001b[0m \u001b[0mcv\u001b[0m\u001b[1;33m=\u001b[0m\u001b[0mcv\u001b[0m\u001b[1;33m,\u001b[0m\u001b[1;33m\u001b[0m\u001b[1;33m\u001b[0m\u001b[0m\n\u001b[0;32m    403\u001b[0m                                 \u001b[0mn_jobs\u001b[0m\u001b[1;33m=\u001b[0m\u001b[0mn_jobs\u001b[0m\u001b[1;33m,\u001b[0m \u001b[0mverbose\u001b[0m\u001b[1;33m=\u001b[0m\u001b[0mverbose\u001b[0m\u001b[1;33m,\u001b[0m\u001b[1;33m\u001b[0m\u001b[1;33m\u001b[0m\u001b[0m\n",
      "\u001b[1;32m~\\anaconda3\\lib\\site-packages\\sklearn\\utils\\validation.py\u001b[0m in \u001b[0;36minner_f\u001b[1;34m(*args, **kwargs)\u001b[0m\n\u001b[0;32m     70\u001b[0m                           FutureWarning)\n\u001b[0;32m     71\u001b[0m         \u001b[0mkwargs\u001b[0m\u001b[1;33m.\u001b[0m\u001b[0mupdate\u001b[0m\u001b[1;33m(\u001b[0m\u001b[1;33m{\u001b[0m\u001b[0mk\u001b[0m\u001b[1;33m:\u001b[0m \u001b[0marg\u001b[0m \u001b[1;32mfor\u001b[0m \u001b[0mk\u001b[0m\u001b[1;33m,\u001b[0m \u001b[0marg\u001b[0m \u001b[1;32min\u001b[0m \u001b[0mzip\u001b[0m\u001b[1;33m(\u001b[0m\u001b[0msig\u001b[0m\u001b[1;33m.\u001b[0m\u001b[0mparameters\u001b[0m\u001b[1;33m,\u001b[0m \u001b[0margs\u001b[0m\u001b[1;33m)\u001b[0m\u001b[1;33m}\u001b[0m\u001b[1;33m)\u001b[0m\u001b[1;33m\u001b[0m\u001b[1;33m\u001b[0m\u001b[0m\n\u001b[1;32m---> 72\u001b[1;33m         \u001b[1;32mreturn\u001b[0m \u001b[0mf\u001b[0m\u001b[1;33m(\u001b[0m\u001b[1;33m**\u001b[0m\u001b[0mkwargs\u001b[0m\u001b[1;33m)\u001b[0m\u001b[1;33m\u001b[0m\u001b[1;33m\u001b[0m\u001b[0m\n\u001b[0m\u001b[0;32m     73\u001b[0m     \u001b[1;32mreturn\u001b[0m \u001b[0minner_f\u001b[0m\u001b[1;33m\u001b[0m\u001b[1;33m\u001b[0m\u001b[0m\n\u001b[0;32m     74\u001b[0m \u001b[1;33m\u001b[0m\u001b[0m\n",
      "\u001b[1;32m~\\anaconda3\\lib\\site-packages\\sklearn\\model_selection\\_validation.py\u001b[0m in \u001b[0;36mcross_validate\u001b[1;34m(estimator, X, y, groups, scoring, cv, n_jobs, verbose, fit_params, pre_dispatch, return_train_score, return_estimator, error_score)\u001b[0m\n\u001b[0;32m    240\u001b[0m     parallel = Parallel(n_jobs=n_jobs, verbose=verbose,\n\u001b[0;32m    241\u001b[0m                         pre_dispatch=pre_dispatch)\n\u001b[1;32m--> 242\u001b[1;33m     scores = parallel(\n\u001b[0m\u001b[0;32m    243\u001b[0m         delayed(_fit_and_score)(\n\u001b[0;32m    244\u001b[0m             \u001b[0mclone\u001b[0m\u001b[1;33m(\u001b[0m\u001b[0mestimator\u001b[0m\u001b[1;33m)\u001b[0m\u001b[1;33m,\u001b[0m \u001b[0mX\u001b[0m\u001b[1;33m,\u001b[0m \u001b[0my\u001b[0m\u001b[1;33m,\u001b[0m \u001b[0mscorers\u001b[0m\u001b[1;33m,\u001b[0m \u001b[0mtrain\u001b[0m\u001b[1;33m,\u001b[0m \u001b[0mtest\u001b[0m\u001b[1;33m,\u001b[0m \u001b[0mverbose\u001b[0m\u001b[1;33m,\u001b[0m \u001b[1;32mNone\u001b[0m\u001b[1;33m,\u001b[0m\u001b[1;33m\u001b[0m\u001b[1;33m\u001b[0m\u001b[0m\n",
      "\u001b[1;32m~\\anaconda3\\lib\\site-packages\\joblib\\parallel.py\u001b[0m in \u001b[0;36m__call__\u001b[1;34m(self, iterable)\u001b[0m\n\u001b[0;32m   1049\u001b[0m                 \u001b[0mself\u001b[0m\u001b[1;33m.\u001b[0m\u001b[0m_iterating\u001b[0m \u001b[1;33m=\u001b[0m \u001b[0mself\u001b[0m\u001b[1;33m.\u001b[0m\u001b[0m_original_iterator\u001b[0m \u001b[1;32mis\u001b[0m \u001b[1;32mnot\u001b[0m \u001b[1;32mNone\u001b[0m\u001b[1;33m\u001b[0m\u001b[1;33m\u001b[0m\u001b[0m\n\u001b[0;32m   1050\u001b[0m \u001b[1;33m\u001b[0m\u001b[0m\n\u001b[1;32m-> 1051\u001b[1;33m             \u001b[1;32mwhile\u001b[0m \u001b[0mself\u001b[0m\u001b[1;33m.\u001b[0m\u001b[0mdispatch_one_batch\u001b[0m\u001b[1;33m(\u001b[0m\u001b[0miterator\u001b[0m\u001b[1;33m)\u001b[0m\u001b[1;33m:\u001b[0m\u001b[1;33m\u001b[0m\u001b[1;33m\u001b[0m\u001b[0m\n\u001b[0m\u001b[0;32m   1052\u001b[0m                 \u001b[1;32mpass\u001b[0m\u001b[1;33m\u001b[0m\u001b[1;33m\u001b[0m\u001b[0m\n\u001b[0;32m   1053\u001b[0m \u001b[1;33m\u001b[0m\u001b[0m\n",
      "\u001b[1;32m~\\anaconda3\\lib\\site-packages\\joblib\\parallel.py\u001b[0m in \u001b[0;36mdispatch_one_batch\u001b[1;34m(self, iterator)\u001b[0m\n\u001b[0;32m    864\u001b[0m                 \u001b[1;32mreturn\u001b[0m \u001b[1;32mFalse\u001b[0m\u001b[1;33m\u001b[0m\u001b[1;33m\u001b[0m\u001b[0m\n\u001b[0;32m    865\u001b[0m             \u001b[1;32melse\u001b[0m\u001b[1;33m:\u001b[0m\u001b[1;33m\u001b[0m\u001b[1;33m\u001b[0m\u001b[0m\n\u001b[1;32m--> 866\u001b[1;33m                 \u001b[0mself\u001b[0m\u001b[1;33m.\u001b[0m\u001b[0m_dispatch\u001b[0m\u001b[1;33m(\u001b[0m\u001b[0mtasks\u001b[0m\u001b[1;33m)\u001b[0m\u001b[1;33m\u001b[0m\u001b[1;33m\u001b[0m\u001b[0m\n\u001b[0m\u001b[0;32m    867\u001b[0m                 \u001b[1;32mreturn\u001b[0m \u001b[1;32mTrue\u001b[0m\u001b[1;33m\u001b[0m\u001b[1;33m\u001b[0m\u001b[0m\n\u001b[0;32m    868\u001b[0m \u001b[1;33m\u001b[0m\u001b[0m\n",
      "\u001b[1;32m~\\anaconda3\\lib\\site-packages\\joblib\\parallel.py\u001b[0m in \u001b[0;36m_dispatch\u001b[1;34m(self, batch)\u001b[0m\n\u001b[0;32m    782\u001b[0m         \u001b[1;32mwith\u001b[0m \u001b[0mself\u001b[0m\u001b[1;33m.\u001b[0m\u001b[0m_lock\u001b[0m\u001b[1;33m:\u001b[0m\u001b[1;33m\u001b[0m\u001b[1;33m\u001b[0m\u001b[0m\n\u001b[0;32m    783\u001b[0m             \u001b[0mjob_idx\u001b[0m \u001b[1;33m=\u001b[0m \u001b[0mlen\u001b[0m\u001b[1;33m(\u001b[0m\u001b[0mself\u001b[0m\u001b[1;33m.\u001b[0m\u001b[0m_jobs\u001b[0m\u001b[1;33m)\u001b[0m\u001b[1;33m\u001b[0m\u001b[1;33m\u001b[0m\u001b[0m\n\u001b[1;32m--> 784\u001b[1;33m             \u001b[0mjob\u001b[0m \u001b[1;33m=\u001b[0m \u001b[0mself\u001b[0m\u001b[1;33m.\u001b[0m\u001b[0m_backend\u001b[0m\u001b[1;33m.\u001b[0m\u001b[0mapply_async\u001b[0m\u001b[1;33m(\u001b[0m\u001b[0mbatch\u001b[0m\u001b[1;33m,\u001b[0m \u001b[0mcallback\u001b[0m\u001b[1;33m=\u001b[0m\u001b[0mcb\u001b[0m\u001b[1;33m)\u001b[0m\u001b[1;33m\u001b[0m\u001b[1;33m\u001b[0m\u001b[0m\n\u001b[0m\u001b[0;32m    785\u001b[0m             \u001b[1;31m# A job can complete so quickly than its callback is\u001b[0m\u001b[1;33m\u001b[0m\u001b[1;33m\u001b[0m\u001b[1;33m\u001b[0m\u001b[0m\n\u001b[0;32m    786\u001b[0m             \u001b[1;31m# called before we get here, causing self._jobs to\u001b[0m\u001b[1;33m\u001b[0m\u001b[1;33m\u001b[0m\u001b[1;33m\u001b[0m\u001b[0m\n",
      "\u001b[1;32m~\\anaconda3\\lib\\site-packages\\joblib\\_parallel_backends.py\u001b[0m in \u001b[0;36mapply_async\u001b[1;34m(self, func, callback)\u001b[0m\n\u001b[0;32m    206\u001b[0m     \u001b[1;32mdef\u001b[0m \u001b[0mapply_async\u001b[0m\u001b[1;33m(\u001b[0m\u001b[0mself\u001b[0m\u001b[1;33m,\u001b[0m \u001b[0mfunc\u001b[0m\u001b[1;33m,\u001b[0m \u001b[0mcallback\u001b[0m\u001b[1;33m=\u001b[0m\u001b[1;32mNone\u001b[0m\u001b[1;33m)\u001b[0m\u001b[1;33m:\u001b[0m\u001b[1;33m\u001b[0m\u001b[1;33m\u001b[0m\u001b[0m\n\u001b[0;32m    207\u001b[0m         \u001b[1;34m\"\"\"Schedule a func to be run\"\"\"\u001b[0m\u001b[1;33m\u001b[0m\u001b[1;33m\u001b[0m\u001b[0m\n\u001b[1;32m--> 208\u001b[1;33m         \u001b[0mresult\u001b[0m \u001b[1;33m=\u001b[0m \u001b[0mImmediateResult\u001b[0m\u001b[1;33m(\u001b[0m\u001b[0mfunc\u001b[0m\u001b[1;33m)\u001b[0m\u001b[1;33m\u001b[0m\u001b[1;33m\u001b[0m\u001b[0m\n\u001b[0m\u001b[0;32m    209\u001b[0m         \u001b[1;32mif\u001b[0m \u001b[0mcallback\u001b[0m\u001b[1;33m:\u001b[0m\u001b[1;33m\u001b[0m\u001b[1;33m\u001b[0m\u001b[0m\n\u001b[0;32m    210\u001b[0m             \u001b[0mcallback\u001b[0m\u001b[1;33m(\u001b[0m\u001b[0mresult\u001b[0m\u001b[1;33m)\u001b[0m\u001b[1;33m\u001b[0m\u001b[1;33m\u001b[0m\u001b[0m\n",
      "\u001b[1;32m~\\anaconda3\\lib\\site-packages\\joblib\\_parallel_backends.py\u001b[0m in \u001b[0;36m__init__\u001b[1;34m(self, batch)\u001b[0m\n\u001b[0;32m    570\u001b[0m         \u001b[1;31m# Don't delay the application, to avoid keeping the input\u001b[0m\u001b[1;33m\u001b[0m\u001b[1;33m\u001b[0m\u001b[1;33m\u001b[0m\u001b[0m\n\u001b[0;32m    571\u001b[0m         \u001b[1;31m# arguments in memory\u001b[0m\u001b[1;33m\u001b[0m\u001b[1;33m\u001b[0m\u001b[1;33m\u001b[0m\u001b[0m\n\u001b[1;32m--> 572\u001b[1;33m         \u001b[0mself\u001b[0m\u001b[1;33m.\u001b[0m\u001b[0mresults\u001b[0m \u001b[1;33m=\u001b[0m \u001b[0mbatch\u001b[0m\u001b[1;33m(\u001b[0m\u001b[1;33m)\u001b[0m\u001b[1;33m\u001b[0m\u001b[1;33m\u001b[0m\u001b[0m\n\u001b[0m\u001b[0;32m    573\u001b[0m \u001b[1;33m\u001b[0m\u001b[0m\n\u001b[0;32m    574\u001b[0m     \u001b[1;32mdef\u001b[0m \u001b[0mget\u001b[0m\u001b[1;33m(\u001b[0m\u001b[0mself\u001b[0m\u001b[1;33m)\u001b[0m\u001b[1;33m:\u001b[0m\u001b[1;33m\u001b[0m\u001b[1;33m\u001b[0m\u001b[0m\n",
      "\u001b[1;32m~\\anaconda3\\lib\\site-packages\\joblib\\parallel.py\u001b[0m in \u001b[0;36m__call__\u001b[1;34m(self)\u001b[0m\n\u001b[0;32m    260\u001b[0m         \u001b[1;31m# change the default number of processes to -1\u001b[0m\u001b[1;33m\u001b[0m\u001b[1;33m\u001b[0m\u001b[1;33m\u001b[0m\u001b[0m\n\u001b[0;32m    261\u001b[0m         \u001b[1;32mwith\u001b[0m \u001b[0mparallel_backend\u001b[0m\u001b[1;33m(\u001b[0m\u001b[0mself\u001b[0m\u001b[1;33m.\u001b[0m\u001b[0m_backend\u001b[0m\u001b[1;33m,\u001b[0m \u001b[0mn_jobs\u001b[0m\u001b[1;33m=\u001b[0m\u001b[0mself\u001b[0m\u001b[1;33m.\u001b[0m\u001b[0m_n_jobs\u001b[0m\u001b[1;33m)\u001b[0m\u001b[1;33m:\u001b[0m\u001b[1;33m\u001b[0m\u001b[1;33m\u001b[0m\u001b[0m\n\u001b[1;32m--> 262\u001b[1;33m             return [func(*args, **kwargs)\n\u001b[0m\u001b[0;32m    263\u001b[0m                     for func, args, kwargs in self.items]\n\u001b[0;32m    264\u001b[0m \u001b[1;33m\u001b[0m\u001b[0m\n",
      "\u001b[1;32m~\\anaconda3\\lib\\site-packages\\joblib\\parallel.py\u001b[0m in \u001b[0;36m<listcomp>\u001b[1;34m(.0)\u001b[0m\n\u001b[0;32m    260\u001b[0m         \u001b[1;31m# change the default number of processes to -1\u001b[0m\u001b[1;33m\u001b[0m\u001b[1;33m\u001b[0m\u001b[1;33m\u001b[0m\u001b[0m\n\u001b[0;32m    261\u001b[0m         \u001b[1;32mwith\u001b[0m \u001b[0mparallel_backend\u001b[0m\u001b[1;33m(\u001b[0m\u001b[0mself\u001b[0m\u001b[1;33m.\u001b[0m\u001b[0m_backend\u001b[0m\u001b[1;33m,\u001b[0m \u001b[0mn_jobs\u001b[0m\u001b[1;33m=\u001b[0m\u001b[0mself\u001b[0m\u001b[1;33m.\u001b[0m\u001b[0m_n_jobs\u001b[0m\u001b[1;33m)\u001b[0m\u001b[1;33m:\u001b[0m\u001b[1;33m\u001b[0m\u001b[1;33m\u001b[0m\u001b[0m\n\u001b[1;32m--> 262\u001b[1;33m             return [func(*args, **kwargs)\n\u001b[0m\u001b[0;32m    263\u001b[0m                     for func, args, kwargs in self.items]\n\u001b[0;32m    264\u001b[0m \u001b[1;33m\u001b[0m\u001b[0m\n",
      "\u001b[1;32m~\\anaconda3\\lib\\site-packages\\sklearn\\model_selection\\_validation.py\u001b[0m in \u001b[0;36m_fit_and_score\u001b[1;34m(estimator, X, y, scorer, train, test, verbose, parameters, fit_params, return_train_score, return_parameters, return_n_test_samples, return_times, return_estimator, error_score)\u001b[0m\n\u001b[0;32m    529\u001b[0m             \u001b[0mestimator\u001b[0m\u001b[1;33m.\u001b[0m\u001b[0mfit\u001b[0m\u001b[1;33m(\u001b[0m\u001b[0mX_train\u001b[0m\u001b[1;33m,\u001b[0m \u001b[1;33m**\u001b[0m\u001b[0mfit_params\u001b[0m\u001b[1;33m)\u001b[0m\u001b[1;33m\u001b[0m\u001b[1;33m\u001b[0m\u001b[0m\n\u001b[0;32m    530\u001b[0m         \u001b[1;32melse\u001b[0m\u001b[1;33m:\u001b[0m\u001b[1;33m\u001b[0m\u001b[1;33m\u001b[0m\u001b[0m\n\u001b[1;32m--> 531\u001b[1;33m             \u001b[0mestimator\u001b[0m\u001b[1;33m.\u001b[0m\u001b[0mfit\u001b[0m\u001b[1;33m(\u001b[0m\u001b[0mX_train\u001b[0m\u001b[1;33m,\u001b[0m \u001b[0my_train\u001b[0m\u001b[1;33m,\u001b[0m \u001b[1;33m**\u001b[0m\u001b[0mfit_params\u001b[0m\u001b[1;33m)\u001b[0m\u001b[1;33m\u001b[0m\u001b[1;33m\u001b[0m\u001b[0m\n\u001b[0m\u001b[0;32m    532\u001b[0m \u001b[1;33m\u001b[0m\u001b[0m\n\u001b[0;32m    533\u001b[0m     \u001b[1;32mexcept\u001b[0m \u001b[0mException\u001b[0m \u001b[1;32mas\u001b[0m \u001b[0me\u001b[0m\u001b[1;33m:\u001b[0m\u001b[1;33m\u001b[0m\u001b[1;33m\u001b[0m\u001b[0m\n",
      "\u001b[1;32m~\\anaconda3\\lib\\site-packages\\sklearn\\linear_model\\_coordinate_descent.py\u001b[0m in \u001b[0;36mfit\u001b[1;34m(self, X, y, sample_weight, check_input)\u001b[0m\n\u001b[0;32m    830\u001b[0m                 \u001b[0mthis_Xy\u001b[0m \u001b[1;33m=\u001b[0m \u001b[1;32mNone\u001b[0m\u001b[1;33m\u001b[0m\u001b[1;33m\u001b[0m\u001b[0m\n\u001b[0;32m    831\u001b[0m             \u001b[0m_\u001b[0m\u001b[1;33m,\u001b[0m \u001b[0mthis_coef\u001b[0m\u001b[1;33m,\u001b[0m \u001b[0mthis_dual_gap\u001b[0m\u001b[1;33m,\u001b[0m \u001b[0mthis_iter\u001b[0m \u001b[1;33m=\u001b[0m\u001b[0;31m \u001b[0m\u001b[0;31m\\\u001b[0m\u001b[1;33m\u001b[0m\u001b[1;33m\u001b[0m\u001b[0m\n\u001b[1;32m--> 832\u001b[1;33m                 self.path(X, y[:, k],\n\u001b[0m\u001b[0;32m    833\u001b[0m                           \u001b[0ml1_ratio\u001b[0m\u001b[1;33m=\u001b[0m\u001b[0mself\u001b[0m\u001b[1;33m.\u001b[0m\u001b[0ml1_ratio\u001b[0m\u001b[1;33m,\u001b[0m \u001b[0meps\u001b[0m\u001b[1;33m=\u001b[0m\u001b[1;32mNone\u001b[0m\u001b[1;33m,\u001b[0m\u001b[1;33m\u001b[0m\u001b[1;33m\u001b[0m\u001b[0m\n\u001b[0;32m    834\u001b[0m                           \u001b[0mn_alphas\u001b[0m\u001b[1;33m=\u001b[0m\u001b[1;32mNone\u001b[0m\u001b[1;33m,\u001b[0m \u001b[0malphas\u001b[0m\u001b[1;33m=\u001b[0m\u001b[1;33m[\u001b[0m\u001b[0malpha\u001b[0m\u001b[1;33m]\u001b[0m\u001b[1;33m,\u001b[0m\u001b[1;33m\u001b[0m\u001b[1;33m\u001b[0m\u001b[0m\n",
      "\u001b[1;32m~\\anaconda3\\lib\\site-packages\\sklearn\\utils\\validation.py\u001b[0m in \u001b[0;36minner_f\u001b[1;34m(*args, **kwargs)\u001b[0m\n\u001b[0;32m     70\u001b[0m                           FutureWarning)\n\u001b[0;32m     71\u001b[0m         \u001b[0mkwargs\u001b[0m\u001b[1;33m.\u001b[0m\u001b[0mupdate\u001b[0m\u001b[1;33m(\u001b[0m\u001b[1;33m{\u001b[0m\u001b[0mk\u001b[0m\u001b[1;33m:\u001b[0m \u001b[0marg\u001b[0m \u001b[1;32mfor\u001b[0m \u001b[0mk\u001b[0m\u001b[1;33m,\u001b[0m \u001b[0marg\u001b[0m \u001b[1;32min\u001b[0m \u001b[0mzip\u001b[0m\u001b[1;33m(\u001b[0m\u001b[0msig\u001b[0m\u001b[1;33m.\u001b[0m\u001b[0mparameters\u001b[0m\u001b[1;33m,\u001b[0m \u001b[0margs\u001b[0m\u001b[1;33m)\u001b[0m\u001b[1;33m}\u001b[0m\u001b[1;33m)\u001b[0m\u001b[1;33m\u001b[0m\u001b[1;33m\u001b[0m\u001b[0m\n\u001b[1;32m---> 72\u001b[1;33m         \u001b[1;32mreturn\u001b[0m \u001b[0mf\u001b[0m\u001b[1;33m(\u001b[0m\u001b[1;33m**\u001b[0m\u001b[0mkwargs\u001b[0m\u001b[1;33m)\u001b[0m\u001b[1;33m\u001b[0m\u001b[1;33m\u001b[0m\u001b[0m\n\u001b[0m\u001b[0;32m     73\u001b[0m     \u001b[1;32mreturn\u001b[0m \u001b[0minner_f\u001b[0m\u001b[1;33m\u001b[0m\u001b[1;33m\u001b[0m\u001b[0m\n\u001b[0;32m     74\u001b[0m \u001b[1;33m\u001b[0m\u001b[0m\n",
      "\u001b[1;32m~\\anaconda3\\lib\\site-packages\\sklearn\\linear_model\\_coordinate_descent.py\u001b[0m in \u001b[0;36menet_path\u001b[1;34m(X, y, l1_ratio, eps, n_alphas, alphas, precompute, Xy, copy_X, coef_init, verbose, return_n_iter, positive, check_input, **params)\u001b[0m\n\u001b[0;32m    527\u001b[0m                 tol, rng, random, positive)\n\u001b[0;32m    528\u001b[0m         \u001b[1;32melif\u001b[0m \u001b[0mprecompute\u001b[0m \u001b[1;32mis\u001b[0m \u001b[1;32mFalse\u001b[0m\u001b[1;33m:\u001b[0m\u001b[1;33m\u001b[0m\u001b[1;33m\u001b[0m\u001b[0m\n\u001b[1;32m--> 529\u001b[1;33m             model = cd_fast.enet_coordinate_descent(\n\u001b[0m\u001b[0;32m    530\u001b[0m                 \u001b[0mcoef_\u001b[0m\u001b[1;33m,\u001b[0m \u001b[0ml1_reg\u001b[0m\u001b[1;33m,\u001b[0m \u001b[0ml2_reg\u001b[0m\u001b[1;33m,\u001b[0m \u001b[0mX\u001b[0m\u001b[1;33m,\u001b[0m \u001b[0my\u001b[0m\u001b[1;33m,\u001b[0m \u001b[0mmax_iter\u001b[0m\u001b[1;33m,\u001b[0m \u001b[0mtol\u001b[0m\u001b[1;33m,\u001b[0m \u001b[0mrng\u001b[0m\u001b[1;33m,\u001b[0m \u001b[0mrandom\u001b[0m\u001b[1;33m,\u001b[0m\u001b[1;33m\u001b[0m\u001b[1;33m\u001b[0m\u001b[0m\n\u001b[0;32m    531\u001b[0m                 positive)\n",
      "\u001b[1;31mKeyboardInterrupt\u001b[0m: "
     ]
    }
   ],
   "source": [
    "X_train, X_test, y_train, y_test = train_test_split(data,target, random_state = 12)\n",
    "\n",
    "feature_scaler = StandardScaler()\n",
    "X_train = feature_scaler.fit_transform(X_train)\n",
    "X_test = feature_scaler.transform(X_test)\n",
    "\n",
    "# standard lasso \n",
    "lasso = Lasso(alpha = 1, max_iter = 100000).fit(X_train,y_train)\n",
    "print(\"Standard Lasso \")\n",
    "print(\"Number of fetures used \" ,np.sum(lasso.coef_ != 0))\n",
    "print(\"Train score \", round(lasso.score(X_train, y_train)*100,2))\n",
    "print(\"Test score \", round(lasso.score(X_test, y_test)*100,2))\n",
    "    \n",
    "\n",
    "kfold = KFold(n_splits=3,shuffle=True,random_state=0)\n",
    "score = cvs(Lasso(max_iter = 100000), data, target,cv = kfold)\n",
    "print(\"Lasso cross validation\")\n",
    "print(\"Lasso R^2 mean score \", round(score.mean()*100,2), \"%\")\n",
    "print(\"Standard deviation \", round(score.std()*100,2),\"\\n\")\n",
    "\n",
    "lasso = Lasso(max_iter= 100000)\n",
    "parameter_lasso = {\"alpha\" : [i for i in np.arange(0,1,0.1)] }\n",
    "gs = GridSearchCV(lasso, parameter_lasso, n_jobs =-1, cv=3)\n",
    "gs.fit(X_train, y_train)\n",
    "print(\"Lasso grid search with cross validation \")\n",
    "print(\"Best parameters \",gs.best_params_)\n",
    "print(\"Best train score \",round(gs.best_score_*100,2),\"%\")\n",
    "print(\"Test score \", round(gs.score(X_test, y_test)*100,2),\"%\")"
   ]
  },
  {
   "cell_type": "markdown",
   "metadata": {},
   "source": [
    "#### MLPRegressor\n",
    "For This algorithm we will scale our data with the MinMaxScaler. Our data set has a wide range of values for different feature. Espacially the sales price we want to predict. That's why we will use MinMaxScaler to scale the data into values between 1 and -1\n",
    "After trying a few different models with various numbers of hidden layers and nodes in each layer. Each resulting in a number of different results and runtime. We found that one hidden layer with 5 nodes gave us the best result. \n",
    "The solver 'lbfgs' worked best for our dataset, giving the highest score. \n"
   ]
  },
  {
   "cell_type": "code",
   "execution_count": 27,
   "metadata": {},
   "outputs": [],
   "source": [
    "#Importing sklearns Mulitlayered-Perceptron Regressor and MinMax scaler\n",
    "from sklearn.neural_network import MLPRegressor\n",
    "from sklearn.preprocessing import MinMaxScaler\n",
    "from sklearn.preprocessing import StandardScaler\n",
    "from sklearn.model_selection import train_test_split"
   ]
  },
  {
   "cell_type": "markdown",
   "metadata": {},
   "source": [
    "Preparing the data for MLP-regression"
   ]
  },
  {
   "cell_type": "code",
   "execution_count": 28,
   "metadata": {},
   "outputs": [],
   "source": [
    "X =df.drop(['SALE PRICE'], axis=1).values\n",
    "y =df.iloc[:, 2].values\n",
    "\n",
    "#Creating a scaler\n",
    "scaler = MinMaxScaler()                    \n",
    "#Scaling the data\n",
    "scaled_data = scaler.fit_transform(X,y) \n"
   ]
  },
  {
   "cell_type": "code",
   "execution_count": null,
   "metadata": {},
   "outputs": [],
   "source": [
    "#Splitting the data into training and testing sets\n",
    "X_train, X_test, y_train, y_test = train_test_split(X, y, test_size=0.1)\n",
    "\n",
    "#Creating our MLPRegressor \n",
    "nn = MLPRegressor(hidden_layer_sizes = [5,], activation = 'relu', alpha=0.001, max_iter =10000, solver='lbfgs')\n",
    "\n",
    "#Fitting the data\n",
    "nn.fit(X_train, y_train)\n",
    "print(\"Neural Network Scores\")\n",
    "print(\"Train score: \", str(round(nn.score(X_train, y_train)*100,2)) + \"%\")\n",
    "print(\"Test score:  \", str(round(nn.score(X_test, y_test)*100,2)) + \"%\")\n"
   ]
  },
  {
   "cell_type": "markdown",
   "metadata": {},
   "source": [
    "It seems that the Network score lands on approximately 50% dataset. \n",
    "It could mean that we have a number of features that are not fitting well in the algorithm. That the functions that try to fit all features best possible,  makes the accuracy on our target feature (Sales price) lower."
   ]
  },
  {
   "cell_type": "markdown",
   "metadata": {},
   "source": [
    "#### Random Forrest\n",
    "\n",
    "Due to the nature of decision trees there is no need for us to scale data any further. The forest classifier will clasify the features and their values. The trees will simply split the features as they are, making the trees in the forest.\n",
    "\n",
    "\n",
    "We import and use sklearn.ensamble RandomForestClassifier to ensamble our forest."
   ]
  },
  {
   "cell_type": "code",
   "execution_count": 30,
   "metadata": {},
   "outputs": [],
   "source": [
    "from sklearn.ensemble import RandomForestClassifier   "
   ]
  },
  {
   "cell_type": "markdown",
   "metadata": {},
   "source": [
    "Seperating data for features and salesprice, and splitting the with train_test_split"
   ]
  },
  {
   "cell_type": "code",
   "execution_count": 31,
   "metadata": {},
   "outputs": [],
   "source": [
    "X =df.drop(['SALE PRICE'], axis=1)\n",
    "y =df.iloc[:, 2].values\n",
    "#Splitting the data into training and testing sets\n",
    "X_train, X_test, y_train, y_test = train_test_split(X,y, random_state = 12)"
   ]
  },
  {
   "cell_type": "markdown",
   "metadata": {},
   "source": [
    "We create an instance of a forrest with 12 trees. Due to the size of our dataset we would get a memory error when trying to run the .fit function on our forest. Trying to reduce features to allow more trees led to a lower score on the algorithm.  "
   ]
  },
  {
   "cell_type": "code",
   "execution_count": null,
   "metadata": {},
   "outputs": [
    {
     "name": "stdout",
     "output_type": "stream",
     "text": [
      "Random forest test score:  92.86%\n"
     ]
    }
   ],
   "source": [
    "#Creating a random forest\n",
    "r_For = RandomForestClassifier(n_estimators=12, bootstrap = True, max_features = 'auto') \n",
    "#Fitting data into the forest\n",
    "r_For.fit(X,y)\n",
    "#Printing test and training scores\n",
    "print(\"Random forest test score: \", str(round(r_For.score(X_test, y_test)*100,2)) + \"%\")\n",
    "print(\"Random forest train score: \", str(round(r_For.score(X_train, y_train)*100,2)) + \"%\")"
   ]
  },
  {
   "cell_type": "markdown",
   "metadata": {},
   "source": [
    "We get a score of above 90% on our random forest algorithm. It seems that trees to split features an values makes for a good prediction algorithm on our dataset. The forest randomly assigns features to trees to find the ones that allows for the best predictions. This is what makes it the most precise algorithm for our dataset. \n",
    "\n",
    "\n",
    "We can now calculate the importance of the features i.e how relevent they were for the predcitions. Each feature is assigned to a number between 0-1. Closer to 1 the feature is the more relevent it is for the predicition"
   ]
  },
  {
   "cell_type": "code",
   "execution_count": null,
   "metadata": {},
   "outputs": [],
   "source": [
    "#Calculating the feature importance\n",
    "print(r_For.feature_importances_)\n",
    "\n",
    "#Visualization of feature importance\n",
    "plt.barh(X.columns, r_For.feature_importances_)"
   ]
  },
  {
   "cell_type": "markdown",
   "metadata": {},
   "source": [
    "Here we see how the importance i.e how well different features predict the salesprice. We can see that a few features score very low. \n",
    "\n",
    "The forest randomly tested features on different trees to find, and use the most relevant ones for predicting sales price. We could reason that the other algorithms used features that would be misleading. For an instance MLPRegressor used all features after cleaning of the dataset. \n",
    "Trying to create a function that would try to fit all features best possible made it less precise in predicting salesprice.\n"
   ]
  },
  {
   "cell_type": "markdown",
   "metadata": {},
   "source": [
    "### Summary\n",
    "\n",
    "#### Ridge: \n",
    "* Ridge cross validation\n",
    "      RIDGE R^2 mean score  59.03 %\n",
    "      Standard deviation  1.9 \n",
    "\n",
    "* Ridge grid search with cross validation \n",
    "      Best parameters  {'alpha': 21.0}\n",
    "      Best train score  58.49 %\n",
    "      Test score  60.74 %\n",
    "          \n",
    "\n",
    "* Linear Regression: \n",
    "* MLP Regressor: \n",
    "* Lasso: \n",
    "* Random Forest:\n"
   ]
  },
  {
   "cell_type": "code",
   "execution_count": null,
   "metadata": {},
   "outputs": [],
   "source": []
  }
 ],
 "metadata": {
  "kernelspec": {
   "display_name": "Python 3",
   "language": "python",
   "name": "python3"
  },
  "language_info": {
   "codemirror_mode": {
    "name": "ipython",
    "version": 3
   },
   "file_extension": ".py",
   "mimetype": "text/x-python",
   "name": "python",
   "nbconvert_exporter": "python",
   "pygments_lexer": "ipython3",
   "version": "3.8.5"
  }
 },
 "nbformat": 4,
 "nbformat_minor": 5
}
