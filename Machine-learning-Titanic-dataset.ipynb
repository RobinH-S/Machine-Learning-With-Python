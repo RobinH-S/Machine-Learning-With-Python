{
 "cells": [
  {
   "cell_type": "markdown",
   "id": "75923301",
   "metadata": {},
   "source": [
    "Importer for pakker som brukes i oppgaven"
   ]
  },
  {
   "cell_type": "code",
   "execution_count": 57,
   "id": "3e1a63db-e34c-4e85-9b20-263f997541aa",
   "metadata": {},
   "outputs": [],
   "source": [
    "import pandas as pd\n",
    "import numpy as np\n",
    "import pandas as pd\n",
    "import matplotlib.pyplot as plt\n",
    "import sklearn"
   ]
  },
  {
   "cell_type": "markdown",
   "id": "1c85db72",
   "metadata": {},
   "source": [
    "Importerer titanic filen fra github og legger den inn i pandas dataframe"
   ]
  },
  {
   "cell_type": "code",
   "execution_count": 58,
   "id": "0ff403ad-bb79-4603-9f40-ef42e565f476",
   "metadata": {},
   "outputs": [
    {
     "name": "stdout",
     "output_type": "stream",
     "text": [
      "     Survived  Pclass                                               Name  \\\n",
      "0           0       3                             Mr. Owen Harris Braund   \n",
      "1           1       1  Mrs. John Bradley (Florence Briggs Thayer) Cum...   \n",
      "2           1       3                              Miss. Laina Heikkinen   \n",
      "3           1       1        Mrs. Jacques Heath (Lily May Peel) Futrelle   \n",
      "4           0       3                            Mr. William Henry Allen   \n",
      "..        ...     ...                                                ...   \n",
      "882         0       2                               Rev. Juozas Montvila   \n",
      "883         1       1                        Miss. Margaret Edith Graham   \n",
      "884         0       3                     Miss. Catherine Helen Johnston   \n",
      "885         1       1                               Mr. Karl Howell Behr   \n",
      "886         0       3                                 Mr. Patrick Dooley   \n",
      "\n",
      "        Sex   Age  Siblings/Spouses Aboard  Parents/Children Aboard     Fare  \n",
      "0      male  22.0                        1                        0   7.2500  \n",
      "1    female  38.0                        1                        0  71.2833  \n",
      "2    female  26.0                        0                        0   7.9250  \n",
      "3    female  35.0                        1                        0  53.1000  \n",
      "4      male  35.0                        0                        0   8.0500  \n",
      "..      ...   ...                      ...                      ...      ...  \n",
      "882    male  27.0                        0                        0  13.0000  \n",
      "883  female  19.0                        0                        0  30.0000  \n",
      "884  female   7.0                        1                        2  23.4500  \n",
      "885    male  26.0                        0                        0  30.0000  \n",
      "886    male  32.0                        0                        0   7.7500  \n",
      "\n",
      "[887 rows x 8 columns]\n"
     ]
    }
   ],
   "source": [
    "titanic_data= pd.read_csv(\"https://raw.githubusercontent.com/rhe048/Info180/main/titanic.csv\" , sep=\",\")\n",
    "\n",
    "from sklearn.preprocessing import MinMaxScaler\n",
    "from sklearn.model_selection import train_test_split\n",
    "\n",
    "print(titanic_data)"
   ]
  },
  {
   "cell_type": "code",
   "execution_count": 59,
   "id": "54573f4f-f850-4fce-a364-7e69be39d04e",
   "metadata": {},
   "outputs": [
    {
     "name": "stdout",
     "output_type": "stream",
     "text": [
      "Index(['Survived', 'Pclass', 'Name', 'Sex', 'Age', 'Siblings/Spouses Aboard',\n",
      "       'Parents/Children Aboard', 'Fare'],\n",
      "      dtype='object')\n"
     ]
    }
   ],
   "source": [
    "print (titanic_data.columns)"
   ]
  },
  {
   "cell_type": "markdown",
   "id": "8a2b354d",
   "metadata": {},
   "source": [
    "-Bytter verdier for female og male med 1 for female og 0 for male\n",
    "\n",
    "-Fjerner navnene fra tabellen"
   ]
  },
  {
   "cell_type": "code",
   "execution_count": 60,
   "id": "f6d1fdd5-ff6d-41a3-be12-bd1acbc51ce5",
   "metadata": {},
   "outputs": [],
   "source": [
    "titanic_data = titanic_data[['Survived', 'Pclass',  'Sex', 'Age', 'Siblings/Spouses Aboard',\n",
    "       'Parents/Children Aboard','Fare']]\n",
    "titanic_data['Sex'] = titanic_data['Sex'].replace(['male', 'female'], [0,1])   \n"
   ]
  },
  {
   "cell_type": "code",
   "execution_count": 61,
   "id": "d25529f8-07c2-40df-8f16-b6d84d121903",
   "metadata": {},
   "outputs": [],
   "source": [
    "predict = \"Survived\"  #Label, we want to predict \n",
    "X = np.array(titanic_data.drop([predict], 1))\n",
    "y = np.array(titanic_data[predict])"
   ]
  },
  {
   "cell_type": "markdown",
   "id": "394dbabf",
   "metadata": {},
   "source": [
    "Deler dataene i testsett og treningsett"
   ]
  },
  {
   "cell_type": "code",
   "execution_count": 62,
   "id": "6fe10c85-8086-41fe-acce-164de7b0f1f9",
   "metadata": {},
   "outputs": [],
   "source": [
    "X_train, X_test, y_train, y_test = sklearn.model_selection.train_test_split(X, y, test_size=0.2)\n",
    "X_train, X_test, y_train, y_test = train_test_split(X,y, random_state=1)"
   ]
  },
  {
   "cell_type": "raw",
   "id": "b746e85d",
   "metadata": {},
   "source": [
    "Her implementeres Naive Bayes algortimen og skriver ut treffsikkerhet i prosent"
   ]
  },
  {
   "cell_type": "code",
   "execution_count": 104,
   "id": "7c49ddda-5f66-4b76-92c4-94b215d689aa",
   "metadata": {},
   "outputs": [
    {
     "name": "stdout",
     "output_type": "stream",
     "text": [
      "Test score:  0.77 %\n"
     ]
    }
   ],
   "source": [
    "from sklearn.naive_bayes import GaussianNB     #BGaussian Naive Bayes: better with more features and larger datasets\n",
    "nbc = GaussianNB()\n",
    "nbc.fit(X_train, y_train)\n",
    "nbc.score(X_test, y_test)\n",
    "print(\"Test score: \", nbc.score(X_test, y_test).round(2),\"%\")"
   ]
  },
  {
   "cell_type": "markdown",
   "id": "88fe5dd7",
   "metadata": {},
   "source": [
    "KNN algortitme implementeres\n",
    "https://www.datacamp.com/community/tutorials/k-nearest-neighbor-classification-scikit-learn "
   ]
  },
  {
   "cell_type": "code",
   "execution_count": 64,
   "id": "b36ffd5b",
   "metadata": {},
   "outputs": [],
   "source": [
    "scaler = MinMaxScaler()\n",
    "# transform data\n",
    "scaled = scaler.fit_transform(titanic_data)\n",
    "\n",
    "predict = \"Survived\"                         #Label, we want to predict \n",
    "X = np.array(titanic_data.drop([predict], 1))\n",
    "y = np.array(titanic_data[predict])\n",
    "X_train, X_test, y_train, y_test = sklearn.model_selection.train_test_split(X, y, test_size=0.1)\n",
    "X_train, X_test, y_train, y_test = train_test_split(X,y, random_state=1)"
   ]
  },
  {
   "cell_type": "code",
   "execution_count": 65,
   "id": "9bc453e3",
   "metadata": {},
   "outputs": [
    {
     "name": "stdout",
     "output_type": "stream",
     "text": [
      "     Survived  Pclass  Sex    Age  Siblings/Spouses Aboard  \\\n",
      "799         1       3    0   0.42                        0   \n",
      "751         1       2    0   0.67                        1   \n",
      "641         1       3    1   0.75                        2   \n",
      "466         1       3    1   0.75                        2   \n",
      "827         1       2    0   0.83                        1   \n",
      "..        ...     ...  ...    ...                      ...   \n",
      "115         0       3    0  70.50                        0   \n",
      "490         0       1    0  71.00                        0   \n",
      "95          0       1    0  71.00                        0   \n",
      "847         0       3    0  74.00                        0   \n",
      "627         1       1    0  80.00                        0   \n",
      "\n",
      "     Parents/Children Aboard     Fare  \n",
      "799                        1   8.5167  \n",
      "751                        1  14.5000  \n",
      "641                        1  19.2583  \n",
      "466                        1  19.2583  \n",
      "827                        1  18.7500  \n",
      "..                       ...      ...  \n",
      "115                        0   7.7500  \n",
      "490                        0  49.5042  \n",
      "95                         0  34.6542  \n",
      "847                        0   7.7750  \n",
      "627                        0  30.0000  \n",
      "\n",
      "[887 rows x 7 columns]\n"
     ]
    }
   ],
   "source": [
    "\"\"\"q = titanic_data.quantile([0.00, 0.25, 0.50, 0.75, 1.00])\n",
    "col = 'Age'\n",
    "\n",
    "q1 = titanic_data[((titanic_data[col]>=q[col][0.00]) & (titanic_data[col]<q[col][0.25]))]\n",
    "q2 = titanic_data[((titanic_data[col]>=q[col][0.25]) & (titanic_data[col]<q[col][0.50]))]\n",
    "q3 = titanic_data[((titanic_data[col]>=q[col][0.50]) & (titanic_data[col]<q[col][0.75]))]\n",
    "q4 = titanic_data[((titanic_data[col]>=q[col][0.75]) & (titanic_data[col]<=q[col][1.00]))]\n",
    "\n",
    "titanic_data = titanic_data.append(q1)\n",
    "titanic_data = titanic_data.append(q2)\n",
    "titanic_data = titanic_data.append(q3)\n",
    "titanic_data = titanic_data.append(q4)\n",
    "print(titanic_data)\n",
    "\"\"\"\n",
    "\n",
    "titanic_data.sort_values(by =['Age'], inplace = True)\n",
    "print(titanic_data)"
   ]
  },
  {
   "cell_type": "code",
   "execution_count": 73,
   "id": "322d029b",
   "metadata": {},
   "outputs": [],
   "source": [
    "### Import knearest neighbors Classifier model\n",
    "from sklearn.neighbors import KNeighborsClassifier\n",
    "\n",
    "#Create KNN Classifier\n",
    "knn = KNeighborsClassifier(n_neighbors=3)\n",
    "\n",
    "#Train the model using the training sets\n",
    "knn.fit(X_train, y_train)\n",
    "\n",
    "#Predict the response for test dataset\n",
    "y_pred = knn.predict(X_test)"
   ]
  },
  {
   "cell_type": "code",
   "execution_count": 108,
   "id": "ac7cf9a5",
   "metadata": {},
   "outputs": [
    {
     "name": "stdout",
     "output_type": "stream",
     "text": [
      "Test score:  0.8 %\n",
      "0.8015783540022547\n"
     ]
    }
   ],
   "source": [
    "from sklearn.neighbors import KNeighborsClassifier\n",
    "knn = KNeighborsClassifier(n_neighbors=5)\n",
    "knn.fit(X, y)\n",
    "y_pred = knn.predict(X)\n",
    "print(\"Test score: \", knn.score(X_test, y_test).round(2),\"%\")\n",
    "print(metrics.accuracy_score(y, y_pred))"
   ]
  },
  {
   "cell_type": "markdown",
   "id": "18a248c5",
   "metadata": {},
   "source": [
    "Linear model\n",
    "https://scikit-learn.org/stable/auto_examples/linear_model/plot_ols.html"
   ]
  },
  {
   "cell_type": "code",
   "execution_count": 75,
   "id": "7f90188e",
   "metadata": {},
   "outputs": [],
   "source": [
    "from sklearn import datasets, linear_model\n",
    "from sklearn.metrics import mean_squared_error, r2_score\n",
    "\n"
   ]
  },
  {
   "cell_type": "code",
   "execution_count": 76,
   "id": "71d17388",
   "metadata": {},
   "outputs": [],
   "source": [
    "scaler = MinMaxScaler()\n",
    "# transform data\n",
    "scaled = scaler.fit_transform(titanic_data)\n",
    "predict = \"Survived\"  #Label, we want to predict \n",
    "\n",
    "X = np.array(titanic_data.drop([predict], 1))\n",
    "y = np.array(titanic_data[predict])"
   ]
  },
  {
   "cell_type": "code",
   "execution_count": 77,
   "id": "fd6675b7",
   "metadata": {},
   "outputs": [],
   "source": [
    "X_train, X_test, y_train, y_test = sklearn.model_selection.train_test_split(X, y, test_size=0.2)\n",
    "X_train, X_test, y_train, y_test = train_test_split(X,y, random_state=1)"
   ]
  },
  {
   "cell_type": "code",
   "execution_count": 79,
   "id": "550cdd97",
   "metadata": {},
   "outputs": [
    {
     "data": {
      "text/plain": [
       "array([0, 0, 1, 1, 0, 1, 1, 1, 1, 1, 0, 0, 0, 0, 1, 0, 1, 0, 1, 1, 1, 0,\n",
       "       1, 0, 0, 1, 0, 1, 1, 0, 0, 0, 0, 0, 1, 0, 1, 0, 1, 1, 1, 0, 1, 0,\n",
       "       0, 1, 1, 0, 1, 1, 0, 0, 0, 1, 0, 1, 0, 1, 0, 0, 0, 1, 1, 0, 1, 1,\n",
       "       1, 0, 0, 0, 0, 0, 1, 0, 0, 0, 1, 0, 0, 1, 1, 1, 0, 0, 1, 1, 1, 0,\n",
       "       1, 1, 1, 1, 0, 1, 1, 0, 0, 0, 1, 0, 1, 0, 0, 0, 0, 0, 1, 0, 1, 0,\n",
       "       0, 0, 1, 0, 1, 1, 0, 0, 0, 0, 0, 1, 0, 0, 1, 0, 0, 0, 1, 1, 1, 0,\n",
       "       1, 0, 0, 0, 1, 0, 1, 0, 0, 1, 1, 0, 0, 1, 0, 1, 1, 0, 1, 0, 1, 1,\n",
       "       1, 0, 1, 1, 1, 0, 0, 1, 0, 0, 1, 0, 0, 0, 1, 1, 1, 1, 1, 0, 0, 0,\n",
       "       0, 1, 0, 0, 0, 0, 0, 0, 1, 1, 0, 0, 0, 0, 1, 1, 0, 0, 0, 0, 0, 0,\n",
       "       0, 0, 0, 1, 0, 0, 0, 0, 0, 0, 0, 0, 0, 0, 0, 0, 0, 1, 0, 1, 0, 0,\n",
       "       0, 0, 0, 0, 0, 1, 1, 0, 0, 0, 0, 0, 1, 0, 1, 1, 0, 1, 1, 0, 0, 1,\n",
       "       0, 0, 1, 1, 0, 0, 0, 0, 0, 0, 0, 1, 0, 0, 0, 1, 1, 1, 0, 1, 0, 0,\n",
       "       1, 0, 0, 1, 0, 0, 0, 1, 0, 1, 1, 0, 1, 0, 1, 1, 1, 1, 0, 0, 1, 0,\n",
       "       0, 0, 0, 0, 0, 1, 0, 0, 1, 0, 0, 0, 1, 1, 0, 0, 0, 0, 1, 0, 0, 1,\n",
       "       1, 0, 0, 1, 0, 1, 0, 0, 0, 0, 0, 0, 0, 0, 1, 1, 1, 0, 0, 1, 1, 0,\n",
       "       0, 0, 1, 0, 0, 1, 0, 1, 0, 1, 1, 0, 1, 1, 1, 0, 1, 0, 1, 0, 1, 0,\n",
       "       1, 1, 1, 1, 0, 0, 0, 0, 0, 1, 0, 0, 0, 0, 0, 0, 0, 0, 1, 1, 1, 0,\n",
       "       1, 0, 1, 1, 0, 0, 1, 1, 0, 0, 0, 1, 0, 1, 0, 0, 0, 1, 0, 1, 1, 0,\n",
       "       0, 0, 0, 1, 0, 0, 0, 0, 0, 1, 0, 1, 0, 1, 0, 1, 0, 1, 1, 0, 0, 0,\n",
       "       1, 0, 0, 1, 0, 0, 1, 0, 0, 1, 0, 1, 0, 0, 1, 0, 0, 0, 0, 0, 0, 0,\n",
       "       1, 0, 0, 1, 0, 0, 0, 0, 0, 0, 1, 1, 1, 0, 0, 1, 1, 1, 1, 1, 0, 0,\n",
       "       0, 1, 1, 0, 0, 0, 0, 1, 1, 0, 1, 0, 0, 0, 0, 0, 1, 1, 0, 0, 0, 0,\n",
       "       0, 0, 0, 1, 0, 1, 0, 1, 1, 1, 1, 1, 0, 1, 0, 0, 0, 1, 0, 0, 0, 0,\n",
       "       1, 0, 1, 0, 0, 0, 0, 0, 1, 1, 0, 1, 0, 0, 0, 0, 1, 0, 1, 1, 0, 1,\n",
       "       0, 1, 0, 0, 0, 0, 0, 1, 1, 0, 1, 1, 0, 0, 0, 1, 1, 1, 0, 1, 0, 0,\n",
       "       1, 1, 0, 0, 0, 0, 0, 0, 0, 0, 1, 0, 0, 0, 0, 0, 0, 0, 1, 0, 1, 1,\n",
       "       1, 0, 0, 1, 1, 0, 0, 0, 0, 0, 1, 0, 0, 0, 0, 0, 1, 0, 0, 0, 0, 0,\n",
       "       0, 1, 0, 0, 0, 0, 1, 1, 0, 0, 1, 1, 1, 0, 1, 1, 1, 1, 0, 0, 0, 0,\n",
       "       0, 0, 0, 0, 1, 1, 0, 0, 0, 0, 0, 0, 1, 0, 1, 0, 1, 0, 0, 0, 0, 1,\n",
       "       0, 1, 0, 0, 0, 1, 0, 0, 1, 0, 0, 0, 0, 0, 0, 0, 0, 0, 1, 0, 0, 0,\n",
       "       0, 1, 0, 0, 0, 1, 0, 1, 1, 1, 0, 1, 0, 0, 0, 0, 0, 0, 0, 0, 0, 0,\n",
       "       1, 1, 0, 0, 0, 1, 0, 0, 1, 0, 0, 1, 0, 0, 1, 1, 0, 0, 0, 0, 1, 1,\n",
       "       1, 0, 0, 0, 0, 0, 0, 0, 1, 0, 1, 0, 0, 1, 0, 0, 0, 0, 0, 0, 0, 1,\n",
       "       1, 1, 0, 0, 1, 0, 0, 1, 0, 0, 0, 0, 1, 0, 0, 0, 0, 0, 0, 1, 0, 0,\n",
       "       1, 0, 0, 1, 0, 0, 0, 1, 0, 0, 0, 0, 1, 0, 0, 0, 0, 1, 1, 0, 0, 0,\n",
       "       0, 0, 1, 0, 0, 0, 0, 0, 0, 0, 0, 0, 1, 0, 0, 0, 0, 1, 1, 1, 0, 1,\n",
       "       0, 0, 1, 0, 1, 0, 1, 0, 0, 1, 0, 0, 0, 1, 0, 1, 1, 1, 1, 0, 0, 0,\n",
       "       0, 0, 0, 0, 1, 0, 0, 0, 0, 0, 1, 0, 0, 1, 1, 0, 0, 0, 0, 0, 1, 0,\n",
       "       1, 0, 0, 1, 0, 0, 1, 0, 0, 0, 0, 1, 0, 1, 0, 1, 1, 0, 0, 0, 1, 0,\n",
       "       0, 0, 0, 0, 0, 0, 0, 0, 0, 1, 0, 0, 1, 0, 0, 0, 0, 0, 0, 0, 0, 0,\n",
       "       0, 0, 0, 0, 0, 0, 0])"
      ]
     },
     "execution_count": 79,
     "metadata": {},
     "output_type": "execute_result"
    }
   ],
   "source": [
    "# import the class\n",
    "from sklearn.linear_model import LogisticRegression\n",
    "\n",
    "# instantiate the model (using the default parameters)\n",
    "logreg = LogisticRegression()\n",
    "\n",
    "# fit the model with data\n",
    "logreg.fit(X, y)\n",
    "\n",
    "# predict the response values for the observations in X\n",
    "logreg.predict(X)"
   ]
  },
  {
   "cell_type": "code",
   "execution_count": 96,
   "id": "d4676707",
   "metadata": {},
   "outputs": [
    {
     "data": {
      "text/plain": [
       "887"
      ]
     },
     "execution_count": 96,
     "metadata": {},
     "output_type": "execute_result"
    }
   ],
   "source": [
    "# store the predicted response values\n",
    "y_pred = logreg.predict(X)\n",
    "\n",
    "# check how many predictions were generated\n",
    "len(y_pred)"
   ]
  },
  {
   "cell_type": "code",
   "execution_count": 112,
   "id": "850562b6",
   "metadata": {},
   "outputs": [
    {
     "name": "stdout",
     "output_type": "stream",
     "text": [
      "0.8015783540022547\n",
      "Test score:  0.79 %\n"
     ]
    }
   ],
   "source": [
    "print(metrics.accuracy_score(y, y_pred))\n",
    "\n",
    "print(\"Test score: \", logreg.score(X_test, y_test).round(2),\"%\")"
   ]
  },
  {
   "cell_type": "code",
   "execution_count": null,
   "id": "4a571fc6",
   "metadata": {},
   "outputs": [],
   "source": []
  },
  {
   "cell_type": "code",
   "execution_count": null,
   "id": "e2c37a69",
   "metadata": {},
   "outputs": [],
   "source": []
  }
 ],
 "metadata": {
  "kernelspec": {
   "display_name": "Python 3",
   "language": "python",
   "name": "python3"
  },
  "language_info": {
   "codemirror_mode": {
    "name": "ipython",
    "version": 3
   },
   "file_extension": ".py",
   "mimetype": "text/x-python",
   "name": "python",
   "nbconvert_exporter": "python",
   "pygments_lexer": "ipython3",
   "version": "3.6.13"
  }
 },
 "nbformat": 4,
 "nbformat_minor": 5
}
