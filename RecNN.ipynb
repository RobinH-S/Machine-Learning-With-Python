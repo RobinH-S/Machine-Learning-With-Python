{
 "cells": [
  {
   "cell_type": "code",
   "execution_count": 13,
   "metadata": {},
   "outputs": [],
   "source": [
    "from keras.datasets import imdb\n",
    "from keras.preprocessing import sequence"
   ]
  },
  {
   "cell_type": "code",
   "execution_count": 14,
   "metadata": {},
   "outputs": [],
   "source": [
    "max_features = 10000\n",
    "maxlen = 500\n",
    "batch_Size = 32"
   ]
  },
  {
   "cell_type": "code",
   "execution_count": 15,
   "metadata": {
    "scrolled": true
   },
   "outputs": [
    {
     "name": "stdout",
     "output_type": "stream",
     "text": [
      "loading data ...\n"
     ]
    }
   ],
   "source": [
    "print(\"loading data ...\")\n",
    "(input_train, y_train), (input_test, y_test) = imdb.load_data(num_words = max_features)"
   ]
  },
  {
   "cell_type": "code",
   "execution_count": 16,
   "metadata": {},
   "outputs": [
    {
     "name": "stdout",
     "output_type": "stream",
     "text": [
      "Pad sequences (samples x time)\n",
      "input train shape: (25000, 500)\n",
      "input test shape: (25000, 500)\n"
     ]
    }
   ],
   "source": [
    "print('Pad sequences (samples x time)')\n",
    "input_train = sequence.pad_sequences(input_train, maxlen = maxlen)\n",
    "input_test = sequence.pad_sequences(input_test, maxlen = maxlen)\n",
    "print(\"input train shape:\", input_train.shape)\n",
    "print(\"input test shape:\", input_test.shape)"
   ]
  },
  {
   "cell_type": "code",
   "execution_count": 21,
   "metadata": {},
   "outputs": [
    {
     "name": "stdout",
     "output_type": "stream",
     "text": [
      "Epoch 1/10\n",
      "157/157 [==============================] - 24s 143ms/step - loss: 0.6500 - acc: 0.6207 - val_loss: 0.4564 - val_acc: 0.8260\n",
      "Epoch 2/10\n",
      "157/157 [==============================] - 22s 140ms/step - loss: 0.3857 - acc: 0.8643 - val_loss: 0.3354 - val_acc: 0.8660\n",
      "Epoch 3/10\n",
      "157/157 [==============================] - 23s 145ms/step - loss: 0.2576 - acc: 0.9080 - val_loss: 0.2993 - val_acc: 0.8732\n",
      "Epoch 4/10\n",
      "157/157 [==============================] - 22s 143ms/step - loss: 0.2094 - acc: 0.9247 - val_loss: 0.2889 - val_acc: 0.8796\n",
      "Epoch 5/10\n",
      "157/157 [==============================] - 23s 147ms/step - loss: 0.1738 - acc: 0.9399 - val_loss: 0.3717 - val_acc: 0.8700\n",
      "Epoch 6/10\n",
      "157/157 [==============================] - 22s 143ms/step - loss: 0.1659 - acc: 0.9410 - val_loss: 0.3020 - val_acc: 0.8830\n",
      "Epoch 7/10\n",
      "157/157 [==============================] - 22s 143ms/step - loss: 0.1392 - acc: 0.9526 - val_loss: 0.3553 - val_acc: 0.8762\n",
      "Epoch 8/10\n",
      "157/157 [==============================] - 23s 147ms/step - loss: 0.1274 - acc: 0.9564 - val_loss: 0.3087 - val_acc: 0.8800\n",
      "Epoch 9/10\n",
      "157/157 [==============================] - 23s 149ms/step - loss: 0.1175 - acc: 0.9609 - val_loss: 0.3311 - val_acc: 0.8882\n",
      "Epoch 10/10\n",
      "157/157 [==============================] - 23s 146ms/step - loss: 0.1043 - acc: 0.9661 - val_loss: 0.3418 - val_acc: 0.8746\n"
     ]
    }
   ],
   "source": [
    "from keras.models import Sequential\n",
    "from keras.layers import Embedding, SimpleRNN,  Dense, LSTM\n",
    "model = Sequential()\n",
    "model.add(Embedding(max_features,32))\n",
    "model.add(SimpleRNN(32))\n",
    "model.add(Dense(1, activation='sigmoid'))\n",
    "\n",
    "model.compile(optimizer = 'rmsprop', loss = 'binary_crossentropy', metrics = ['acc'])\n",
    "history = model.fit(input_train, y_train, epochs = 10, batch_size = 128, validation_split = 0.2)"
   ]
  },
  {
   "cell_type": "code",
   "execution_count": 22,
   "metadata": {},
   "outputs": [
    {
     "name": "stdout",
     "output_type": "stream",
     "text": [
      "782/782 [==============================] - 22s 29ms/step - loss: 0.3736 - acc: 0.8628\n"
     ]
    },
    {
     "data": {
      "text/plain": [
       "[0.3736483156681061, 0.8627600073814392]"
      ]
     },
     "execution_count": 22,
     "metadata": {},
     "output_type": "execute_result"
    }
   ],
   "source": [
    "model.evaluate(input_test, y_test)"
   ]
  },
  {
   "cell_type": "code",
   "execution_count": null,
   "metadata": {},
   "outputs": [],
   "source": []
  }
 ],
 "metadata": {
  "kernelspec": {
   "display_name": "Python 3",
   "language": "python",
   "name": "python3"
  },
  "language_info": {
   "codemirror_mode": {
    "name": "ipython",
    "version": 3
   },
   "file_extension": ".py",
   "mimetype": "text/x-python",
   "name": "python",
   "nbconvert_exporter": "python",
   "pygments_lexer": "ipython3",
   "version": "3.7.6"
  }
 },
 "nbformat": 4,
 "nbformat_minor": 4
}
